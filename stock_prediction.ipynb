{
 "cells": [
  {
   "cell_type": "code",
   "metadata": {
    "collapsed": true,
    "pycharm": {
     "name": "#%%\n"
    }
   },
   "source": [
    "import pandas as pd\n",
    "import matplotlib\n",
    "import matplotlib.pyplot as plt\n",
    "from IPython.display import display\n",
    "import seaborn as sns\n",
    "import numpy as np\n",
    "from sklearn.linear_model import LinearRegression\n",
    "from sklearn.metrics import r2_score\n",
    "from sklearn.model_selection import train_test_split\n",
    "\n",
    "# matplotlib.font_manager._rebuild()\n",
    "plt.rc('font', family='Malgun Gothic')\n",
    "plt.rcParams['axes.unicode_minus'] = False #한글 폰트 사용시 마이너스 폰트 깨짐 해결\n",
    "sns.set(font=\"Malgun Gothic\",rc={\"axes.unicode_minus\":False}, style='whitegrid')"
   ],
   "execution_count": 3,
   "outputs": []
  },
  {
   "cell_type": "code",
   "execution_count": 4,
   "outputs": [],
   "source": [
    "data_root = \"./data/daily\""
   ],
   "metadata": {
    "collapsed": false,
    "pycharm": {
     "name": "#%%\n"
    }
   }
  },
  {
   "cell_type": "markdown",
   "source": [
    "## 1. Data 준비\n",
    "\n",
    "### 1) Weather data"
   ],
   "metadata": {
    "collapsed": false
   }
  },
  {
   "cell_type": "code",
   "execution_count": 11,
   "outputs": [
    {
     "data": {
      "text/plain": "           일시  평균기온  강수량mm  평균풍속ms  평균습도rh  일조합\n0  2012-01-01  -3.0    0.0     2.9    64.5  4.4\n1  2012-01-02  -4.8    0.0     2.3    66.5  5.9\n2  2012-01-03  -4.5    0.4     2.5    68.3  2.7",
      "text/html": "<div>\n<style scoped>\n    .dataframe tbody tr th:only-of-type {\n        vertical-align: middle;\n    }\n\n    .dataframe tbody tr th {\n        vertical-align: top;\n    }\n\n    .dataframe thead th {\n        text-align: right;\n    }\n</style>\n<table border=\"1\" class=\"dataframe\">\n  <thead>\n    <tr style=\"text-align: right;\">\n      <th></th>\n      <th>일시</th>\n      <th>평균기온</th>\n      <th>강수량mm</th>\n      <th>평균풍속ms</th>\n      <th>평균습도rh</th>\n      <th>일조합</th>\n    </tr>\n  </thead>\n  <tbody>\n    <tr>\n      <th>0</th>\n      <td>2012-01-01</td>\n      <td>-3.0</td>\n      <td>0.0</td>\n      <td>2.9</td>\n      <td>64.5</td>\n      <td>4.4</td>\n    </tr>\n    <tr>\n      <th>1</th>\n      <td>2012-01-02</td>\n      <td>-4.8</td>\n      <td>0.0</td>\n      <td>2.3</td>\n      <td>66.5</td>\n      <td>5.9</td>\n    </tr>\n    <tr>\n      <th>2</th>\n      <td>2012-01-03</td>\n      <td>-4.5</td>\n      <td>0.4</td>\n      <td>2.5</td>\n      <td>68.3</td>\n      <td>2.7</td>\n    </tr>\n  </tbody>\n</table>\n</div>"
     },
     "metadata": {},
     "output_type": "display_data"
    }
   ],
   "source": [
    "# load each data\n",
    "temp_df = pd.read_csv(f'{data_root}/Temperatures.csv', encoding='cp949')\n",
    "precip_df = pd.read_csv(f'{data_root}/Precipitation.csv', encoding='cp949').fillna(0)\n",
    "wind_df = pd.read_csv(f'{data_root}/Wind.csv', encoding='cp949')\n",
    "humidity_df = pd.read_csv(f'{data_root}/Humidity.csv', encoding='cp949')\n",
    "sunshine_df = pd.read_csv(f'{data_root}/Sunshine.csv', encoding='cp949')\n",
    "\n",
    "# merge\n",
    "weather_df = temp_df.merge(precip_df).merge(wind_df).merge(humidity_df).merge(sunshine_df)\n",
    "weather_columns = [\"평균기온\", \"강수량mm\", \"평균풍속ms\", \"평균습도rh\",\"일조합\"]\n",
    "\n",
    "selected_weather_df = weather_df[['일시']+weather_columns]\n",
    "display(selected_weather_df.head(3))"
   ],
   "metadata": {
    "collapsed": false,
    "pycharm": {
     "name": "#%%\n"
    }
   }
  },
  {
   "cell_type": "markdown",
   "source": [
    "### 2) Stock data"
   ],
   "metadata": {
    "collapsed": false,
    "pycharm": {
     "name": "#%% md\n"
    }
   }
  },
  {
   "cell_type": "code",
   "execution_count": null,
   "outputs": [],
   "source": [
    "#"
   ],
   "metadata": {
    "collapsed": false,
    "pycharm": {
     "name": "#%% \n"
    }
   }
  }
 ],
 "metadata": {
  "kernelspec": {
   "display_name": "Python 3",
   "language": "python",
   "name": "python3"
  },
  "language_info": {
   "codemirror_mode": {
    "name": "ipython",
    "version": 2
   },
   "file_extension": ".py",
   "mimetype": "text/x-python",
   "name": "python",
   "nbconvert_exporter": "python",
   "pygments_lexer": "ipython2",
   "version": "2.7.6"
  }
 },
 "nbformat": 4,
 "nbformat_minor": 0
}