{
 "cells": [
  {
   "cell_type": "code",
   "metadata": {
    "collapsed": true,
    "pycharm": {
     "name": "#%%\n"
    }
   },
   "source": [
    "import pandas as pd\n",
    "import matplotlib\n",
    "import matplotlib.pyplot as plt\n",
    "from IPython.display import display\n",
    "import seaborn as sns\n",
    "import numpy as np\n",
    "import tensorflow as tf\n",
    "from tensorflow.keras import layers\n",
    "\n",
    "# matplotlib.font_manager._rebuild()\n",
    "plt.rc('font', family='Malgun Gothic')\n",
    "plt.rcParams['axes.unicode_minus'] = False #한글 폰트 사용시 마이너스 폰트 깨짐 해결\n",
    "sns.set(font=\"Malgun Gothic\",rc={\"axes.unicode_minus\":False}, style='whitegrid')"
   ],
   "execution_count": 49,
   "outputs": []
  },
  {
   "cell_type": "code",
   "execution_count": 50,
   "outputs": [],
   "source": [
    "data_root = \"./data/daily\""
   ],
   "metadata": {
    "collapsed": false,
    "pycharm": {
     "name": "#%%\n"
    }
   }
  },
  {
   "cell_type": "markdown",
   "source": [
    "## 1. Data 준비\n",
    "\n",
    "### 1) Weather data"
   ],
   "metadata": {
    "collapsed": false
   }
  },
  {
   "cell_type": "code",
   "execution_count": 51,
   "outputs": [
    {
     "data": {
      "text/plain": "           일시  평균기온  강수량mm  평균풍속ms  평균습도rh  일조합\n0  2012-01-01  -3.0    0.0     2.9    64.5  4.4\n1  2012-01-02  -4.8    0.0     2.3    66.5  5.9\n2  2012-01-03  -4.5    0.4     2.5    68.3  2.7",
      "text/html": "<div>\n<style scoped>\n    .dataframe tbody tr th:only-of-type {\n        vertical-align: middle;\n    }\n\n    .dataframe tbody tr th {\n        vertical-align: top;\n    }\n\n    .dataframe thead th {\n        text-align: right;\n    }\n</style>\n<table border=\"1\" class=\"dataframe\">\n  <thead>\n    <tr style=\"text-align: right;\">\n      <th></th>\n      <th>일시</th>\n      <th>평균기온</th>\n      <th>강수량mm</th>\n      <th>평균풍속ms</th>\n      <th>평균습도rh</th>\n      <th>일조합</th>\n    </tr>\n  </thead>\n  <tbody>\n    <tr>\n      <th>0</th>\n      <td>2012-01-01</td>\n      <td>-3.0</td>\n      <td>0.0</td>\n      <td>2.9</td>\n      <td>64.5</td>\n      <td>4.4</td>\n    </tr>\n    <tr>\n      <th>1</th>\n      <td>2012-01-02</td>\n      <td>-4.8</td>\n      <td>0.0</td>\n      <td>2.3</td>\n      <td>66.5</td>\n      <td>5.9</td>\n    </tr>\n    <tr>\n      <th>2</th>\n      <td>2012-01-03</td>\n      <td>-4.5</td>\n      <td>0.4</td>\n      <td>2.5</td>\n      <td>68.3</td>\n      <td>2.7</td>\n    </tr>\n  </tbody>\n</table>\n</div>"
     },
     "metadata": {},
     "output_type": "display_data"
    }
   ],
   "source": [
    "# load each data\n",
    "temp_df = pd.read_csv(f'{data_root}/Temperatures.csv', encoding='cp949')\n",
    "precip_df = pd.read_csv(f'{data_root}/Precipitation.csv', encoding='cp949').fillna(0)\n",
    "wind_df = pd.read_csv(f'{data_root}/Wind.csv', encoding='cp949')\n",
    "humidity_df = pd.read_csv(f'{data_root}/Humidity.csv', encoding='cp949')\n",
    "sunshine_df = pd.read_csv(f'{data_root}/Sunshine.csv', encoding='cp949')\n",
    "\n",
    "# merge\n",
    "weather_df = temp_df.merge(precip_df).merge(wind_df).merge(humidity_df).merge(sunshine_df)\n",
    "weather_columns = [\"평균기온\", \"강수량mm\", \"평균풍속ms\", \"평균습도rh\",\"일조합\"]\n",
    "\n",
    "selected_weather_df = weather_df[['일시']+weather_columns]\n",
    "display(selected_weather_df.head(3))"
   ],
   "metadata": {
    "collapsed": false,
    "pycharm": {
     "name": "#%%\n"
    }
   }
  },
  {
   "cell_type": "markdown",
   "source": [
    "### 2) Stock data"
   ],
   "metadata": {
    "collapsed": false,
    "pycharm": {
     "name": "#%% md\n"
    }
   }
  },
  {
   "cell_type": "code",
   "execution_count": 52,
   "outputs": [
    {
     "data": {
      "text/plain": "         Date   Close\n0  2000-01-04  6110.0\n1  2000-01-05  5580.0\n2  2000-01-06  5620.0",
      "text/html": "<div>\n<style scoped>\n    .dataframe tbody tr th:only-of-type {\n        vertical-align: middle;\n    }\n\n    .dataframe tbody tr th {\n        vertical-align: top;\n    }\n\n    .dataframe thead th {\n        text-align: right;\n    }\n</style>\n<table border=\"1\" class=\"dataframe\">\n  <thead>\n    <tr style=\"text-align: right;\">\n      <th></th>\n      <th>Date</th>\n      <th>Close</th>\n    </tr>\n  </thead>\n  <tbody>\n    <tr>\n      <th>0</th>\n      <td>2000-01-04</td>\n      <td>6110.0</td>\n    </tr>\n    <tr>\n      <th>1</th>\n      <td>2000-01-05</td>\n      <td>5580.0</td>\n    </tr>\n    <tr>\n      <th>2</th>\n      <td>2000-01-06</td>\n      <td>5620.0</td>\n    </tr>\n  </tbody>\n</table>\n</div>"
     },
     "metadata": {},
     "output_type": "display_data"
    }
   ],
   "source": [
    "company_name = \"Samsung Electronics Co\"\n",
    "stock_price_df = pd.read_csv(f'./data/stock/{company_name}.csv')\n",
    "stock_columns = ['Close']\n",
    "selected_stock_df = stock_price_df[['Date'] + stock_columns]\n",
    "display(selected_stock_df.head(3))"
   ],
   "metadata": {
    "collapsed": false,
    "pycharm": {
     "name": "#%%\n"
    }
   }
  },
  {
   "cell_type": "markdown",
   "source": [
    "### 3) Merge"
   ],
   "metadata": {
    "collapsed": false,
    "pycharm": {
     "name": "#%% md\n"
    }
   }
  },
  {
   "cell_type": "code",
   "execution_count": 53,
   "outputs": [
    {
     "data": {
      "text/plain": "            Date  평균기온  강수량mm  평균풍속ms  평균습도rh   일조합    Close\n0     2012-01-02  -4.8    0.0     2.3    66.5   5.9  21600.0\n1     2012-01-03  -4.5    0.4     2.5    68.3   2.7  22100.0\n2     2012-01-04  -7.4    0.0     3.1    55.4   8.1  21600.0\n3     2012-01-05  -5.7    0.0     1.5    49.8   9.0  21100.0\n4     2012-01-06  -2.8    0.0     2.5    42.9   8.4  20800.0\n...          ...   ...    ...     ...     ...   ...      ...\n2553  2022-05-20  20.6    0.0     2.3    52.8  10.8  68000.0\n2554  2022-05-23  23.0    0.0     2.3    63.5  10.4  67900.0\n2555  2022-05-24  22.9    0.0     2.1    56.8  12.3  66500.0\n2556  2022-05-25  21.0    3.5     2.6    66.6   8.1  66400.0\n2557  2022-05-26  18.7    0.0     3.7    59.9  11.6  65900.0\n\n[2558 rows x 7 columns]",
      "text/html": "<div>\n<style scoped>\n    .dataframe tbody tr th:only-of-type {\n        vertical-align: middle;\n    }\n\n    .dataframe tbody tr th {\n        vertical-align: top;\n    }\n\n    .dataframe thead th {\n        text-align: right;\n    }\n</style>\n<table border=\"1\" class=\"dataframe\">\n  <thead>\n    <tr style=\"text-align: right;\">\n      <th></th>\n      <th>Date</th>\n      <th>평균기온</th>\n      <th>강수량mm</th>\n      <th>평균풍속ms</th>\n      <th>평균습도rh</th>\n      <th>일조합</th>\n      <th>Close</th>\n    </tr>\n  </thead>\n  <tbody>\n    <tr>\n      <th>0</th>\n      <td>2012-01-02</td>\n      <td>-4.8</td>\n      <td>0.0</td>\n      <td>2.3</td>\n      <td>66.5</td>\n      <td>5.9</td>\n      <td>21600.0</td>\n    </tr>\n    <tr>\n      <th>1</th>\n      <td>2012-01-03</td>\n      <td>-4.5</td>\n      <td>0.4</td>\n      <td>2.5</td>\n      <td>68.3</td>\n      <td>2.7</td>\n      <td>22100.0</td>\n    </tr>\n    <tr>\n      <th>2</th>\n      <td>2012-01-04</td>\n      <td>-7.4</td>\n      <td>0.0</td>\n      <td>3.1</td>\n      <td>55.4</td>\n      <td>8.1</td>\n      <td>21600.0</td>\n    </tr>\n    <tr>\n      <th>3</th>\n      <td>2012-01-05</td>\n      <td>-5.7</td>\n      <td>0.0</td>\n      <td>1.5</td>\n      <td>49.8</td>\n      <td>9.0</td>\n      <td>21100.0</td>\n    </tr>\n    <tr>\n      <th>4</th>\n      <td>2012-01-06</td>\n      <td>-2.8</td>\n      <td>0.0</td>\n      <td>2.5</td>\n      <td>42.9</td>\n      <td>8.4</td>\n      <td>20800.0</td>\n    </tr>\n    <tr>\n      <th>...</th>\n      <td>...</td>\n      <td>...</td>\n      <td>...</td>\n      <td>...</td>\n      <td>...</td>\n      <td>...</td>\n      <td>...</td>\n    </tr>\n    <tr>\n      <th>2553</th>\n      <td>2022-05-20</td>\n      <td>20.6</td>\n      <td>0.0</td>\n      <td>2.3</td>\n      <td>52.8</td>\n      <td>10.8</td>\n      <td>68000.0</td>\n    </tr>\n    <tr>\n      <th>2554</th>\n      <td>2022-05-23</td>\n      <td>23.0</td>\n      <td>0.0</td>\n      <td>2.3</td>\n      <td>63.5</td>\n      <td>10.4</td>\n      <td>67900.0</td>\n    </tr>\n    <tr>\n      <th>2555</th>\n      <td>2022-05-24</td>\n      <td>22.9</td>\n      <td>0.0</td>\n      <td>2.1</td>\n      <td>56.8</td>\n      <td>12.3</td>\n      <td>66500.0</td>\n    </tr>\n    <tr>\n      <th>2556</th>\n      <td>2022-05-25</td>\n      <td>21.0</td>\n      <td>3.5</td>\n      <td>2.6</td>\n      <td>66.6</td>\n      <td>8.1</td>\n      <td>66400.0</td>\n    </tr>\n    <tr>\n      <th>2557</th>\n      <td>2022-05-26</td>\n      <td>18.7</td>\n      <td>0.0</td>\n      <td>3.7</td>\n      <td>59.9</td>\n      <td>11.6</td>\n      <td>65900.0</td>\n    </tr>\n  </tbody>\n</table>\n<p>2558 rows × 7 columns</p>\n</div>"
     },
     "metadata": {},
     "output_type": "display_data"
    }
   ],
   "source": [
    "stock_weather_df = selected_weather_df.rename(columns={\"일시\":\"Date\"}).merge(selected_stock_df)\n",
    "display(stock_weather_df)"
   ],
   "metadata": {
    "collapsed": false,
    "pycharm": {
     "name": "#%%\n"
    }
   }
  },
  {
   "cell_type": "markdown",
   "source": [
    "## 2. Training\n",
    "### 1) RNN"
   ],
   "metadata": {
    "collapsed": false,
    "pycharm": {
     "name": "#%% md\n"
    }
   }
  },
  {
   "cell_type": "code",
   "execution_count": 54,
   "outputs": [],
   "source": [
    "# cfg\n",
    "batch_size = 4\n",
    "t_dim = 4\n",
    "input_dim = len(weather_columns) + len(stock_columns)"
   ],
   "metadata": {
    "collapsed": false,
    "pycharm": {
     "name": "#%%\n"
    }
   }
  },
  {
   "cell_type": "code",
   "execution_count": 55,
   "outputs": [],
   "source": [
    "def build_model(input_dim: int, t_dim: int):\n",
    "    model = tf.keras.Sequential()\n",
    "    model.add(layers.InputLayer(input_shape=(t_dim, input_dim)))\n",
    "    model.add(layers.GRU(32, return_sequences=True))\n",
    "    model.add(layers.SimpleRNN(32))\n",
    "    model.add(layers.Dense(1))\n",
    "\n",
    "    model.compile(optimizer='adam',\n",
    "                  loss=tf.keras.losses.MSE(),\n",
    "                  metrics=['accuracy'])\n",
    "    return model\n",
    "model = build_model(input_dim, t_dim)"
   ],
   "metadata": {
    "collapsed": false,
    "pycharm": {
     "name": "#%%\n"
    }
   }
  },
  {
   "cell_type": "markdown",
   "source": [
    "### 2) Dataloader"
   ],
   "metadata": {
    "collapsed": false,
    "pycharm": {
     "name": "#%% md\n"
    }
   }
  },
  {
   "cell_type": "code",
   "execution_count": 62,
   "outputs": [],
   "source": [
    "# ds = tf.data.Dataset.from_tensor_slices(stock_weather_df.drop(columns='Date'))\n",
    "# ds = ds.window(size=t_dim+1, shift=1, drop_remainder=True)\n",
    "# ds = ds.flat_map(lambda x:x.batch(t_dim+1))"
   ],
   "metadata": {
    "collapsed": false,
    "pycharm": {
     "name": "#%%\n"
    }
   }
  },
  {
   "cell_type": "code",
   "execution_count": null,
   "outputs": [],
   "source": [],
   "metadata": {
    "collapsed": false,
    "pycharm": {
     "name": "#%%\n"
    }
   }
  }
 ],
 "metadata": {
  "kernelspec": {
   "display_name": "Python 3",
   "language": "python",
   "name": "python3"
  },
  "language_info": {
   "codemirror_mode": {
    "name": "ipython",
    "version": 2
   },
   "file_extension": ".py",
   "mimetype": "text/x-python",
   "name": "python",
   "nbconvert_exporter": "python",
   "pygments_lexer": "ipython2",
   "version": "2.7.6"
  }
 },
 "nbformat": 4,
 "nbformat_minor": 0
}