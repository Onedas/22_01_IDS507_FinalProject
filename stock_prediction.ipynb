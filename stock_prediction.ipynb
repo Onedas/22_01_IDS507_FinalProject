{
 "cells": [
  {
   "cell_type": "code",
   "metadata": {
    "collapsed": true,
    "pycharm": {
     "name": "#%%\n"
    }
   },
   "source": [
    "import pandas as pd\n",
    "import matplotlib\n",
    "import matplotlib.pyplot as plt\n",
    "from IPython.display import display\n",
    "import seaborn as sns\n",
    "import numpy as np\n",
    "from typing import List, Callable\n",
    "# import tensorflow as tf\n",
    "# from tensorflow.keras import layers\n",
    "\n",
    "\n",
    "# matplotlib.font_manager._rebuild()\n",
    "plt.rc('font', family='Malgun Gothic')\n",
    "plt.rcParams['axes.unicode_minus'] = False #한글 폰트 사용시 마이너스 폰트 깨짐 해결\n",
    "sns.set(font=\"Malgun Gothic\",rc={\"axes.unicode_minus\":False}, style='whitegrid')"
   ],
   "execution_count": 87,
   "outputs": []
  },
  {
   "cell_type": "code",
   "execution_count": 88,
   "outputs": [],
   "source": [
    "data_root = \"./data/daily\""
   ],
   "metadata": {
    "collapsed": false,
    "pycharm": {
     "name": "#%%\n"
    }
   }
  },
  {
   "cell_type": "markdown",
   "source": [
    "## 1. Data 준비\n",
    "\n",
    "### 1) Weather data"
   ],
   "metadata": {
    "collapsed": false
   }
  },
  {
   "cell_type": "code",
   "execution_count": 89,
   "outputs": [
    {
     "data": {
      "text/plain": "           일시  평균기온  강수량mm  평균풍속ms  평균습도rh  일조합\n0  2012-01-01  -3.0    0.0     2.9    64.5  4.4\n1  2012-01-02  -4.8    0.0     2.3    66.5  5.9\n2  2012-01-03  -4.5    0.4     2.5    68.3  2.7",
      "text/html": "<div>\n<style scoped>\n    .dataframe tbody tr th:only-of-type {\n        vertical-align: middle;\n    }\n\n    .dataframe tbody tr th {\n        vertical-align: top;\n    }\n\n    .dataframe thead th {\n        text-align: right;\n    }\n</style>\n<table border=\"1\" class=\"dataframe\">\n  <thead>\n    <tr style=\"text-align: right;\">\n      <th></th>\n      <th>일시</th>\n      <th>평균기온</th>\n      <th>강수량mm</th>\n      <th>평균풍속ms</th>\n      <th>평균습도rh</th>\n      <th>일조합</th>\n    </tr>\n  </thead>\n  <tbody>\n    <tr>\n      <th>0</th>\n      <td>2012-01-01</td>\n      <td>-3.0</td>\n      <td>0.0</td>\n      <td>2.9</td>\n      <td>64.5</td>\n      <td>4.4</td>\n    </tr>\n    <tr>\n      <th>1</th>\n      <td>2012-01-02</td>\n      <td>-4.8</td>\n      <td>0.0</td>\n      <td>2.3</td>\n      <td>66.5</td>\n      <td>5.9</td>\n    </tr>\n    <tr>\n      <th>2</th>\n      <td>2012-01-03</td>\n      <td>-4.5</td>\n      <td>0.4</td>\n      <td>2.5</td>\n      <td>68.3</td>\n      <td>2.7</td>\n    </tr>\n  </tbody>\n</table>\n</div>"
     },
     "metadata": {},
     "output_type": "display_data"
    }
   ],
   "source": [
    "# load each data\n",
    "temp_df = pd.read_csv(f'{data_root}/Temperatures.csv', encoding='cp949')\n",
    "precip_df = pd.read_csv(f'{data_root}/Precipitation.csv', encoding='cp949').fillna(0)\n",
    "wind_df = pd.read_csv(f'{data_root}/Wind.csv', encoding='cp949')\n",
    "humidity_df = pd.read_csv(f'{data_root}/Humidity.csv', encoding='cp949')\n",
    "sunshine_df = pd.read_csv(f'{data_root}/Sunshine.csv', encoding='cp949')\n",
    "\n",
    "# merge\n",
    "weather_df = temp_df.merge(precip_df).merge(wind_df).merge(humidity_df).merge(sunshine_df)\n",
    "weather_columns = [\"평균기온\", \"강수량mm\", \"평균풍속ms\", \"평균습도rh\",\"일조합\"]\n",
    "\n",
    "selected_weather_df = weather_df[['일시']+weather_columns]\n",
    "display(selected_weather_df.head(3))"
   ],
   "metadata": {
    "collapsed": false,
    "pycharm": {
     "name": "#%%\n"
    }
   }
  },
  {
   "cell_type": "markdown",
   "source": [
    "### 2) Stock data"
   ],
   "metadata": {
    "collapsed": false,
    "pycharm": {
     "name": "#%% md\n"
    }
   }
  },
  {
   "cell_type": "code",
   "execution_count": 90,
   "outputs": [
    {
     "data": {
      "text/plain": "         Date   Close\n0  2000-01-04  6110.0\n1  2000-01-05  5580.0\n2  2000-01-06  5620.0",
      "text/html": "<div>\n<style scoped>\n    .dataframe tbody tr th:only-of-type {\n        vertical-align: middle;\n    }\n\n    .dataframe tbody tr th {\n        vertical-align: top;\n    }\n\n    .dataframe thead th {\n        text-align: right;\n    }\n</style>\n<table border=\"1\" class=\"dataframe\">\n  <thead>\n    <tr style=\"text-align: right;\">\n      <th></th>\n      <th>Date</th>\n      <th>Close</th>\n    </tr>\n  </thead>\n  <tbody>\n    <tr>\n      <th>0</th>\n      <td>2000-01-04</td>\n      <td>6110.0</td>\n    </tr>\n    <tr>\n      <th>1</th>\n      <td>2000-01-05</td>\n      <td>5580.0</td>\n    </tr>\n    <tr>\n      <th>2</th>\n      <td>2000-01-06</td>\n      <td>5620.0</td>\n    </tr>\n  </tbody>\n</table>\n</div>"
     },
     "metadata": {},
     "output_type": "display_data"
    }
   ],
   "source": [
    "company_name = \"Samsung Electronics Co\"\n",
    "stock_price_df = pd.read_csv(f'./data/stock/{company_name}.csv')\n",
    "stock_columns = ['Close']\n",
    "selected_stock_df = stock_price_df[['Date'] + stock_columns]\n",
    "display(selected_stock_df.head(3))"
   ],
   "metadata": {
    "collapsed": false,
    "pycharm": {
     "name": "#%%\n"
    }
   }
  },
  {
   "cell_type": "markdown",
   "source": [
    "### 3) Merge"
   ],
   "metadata": {
    "collapsed": false,
    "pycharm": {
     "name": "#%% md\n"
    }
   }
  },
  {
   "cell_type": "code",
   "execution_count": 91,
   "outputs": [
    {
     "data": {
      "text/plain": "            Date  평균기온  강수량mm  평균풍속ms  평균습도rh   일조합    Close\n0     2012-01-02  -4.8    0.0     2.3    66.5   5.9  21600.0\n1     2012-01-03  -4.5    0.4     2.5    68.3   2.7  22100.0\n2     2012-01-04  -7.4    0.0     3.1    55.4   8.1  21600.0\n3     2012-01-05  -5.7    0.0     1.5    49.8   9.0  21100.0\n4     2012-01-06  -2.8    0.0     2.5    42.9   8.4  20800.0\n...          ...   ...    ...     ...     ...   ...      ...\n2553  2022-05-20  20.6    0.0     2.3    52.8  10.8  68000.0\n2554  2022-05-23  23.0    0.0     2.3    63.5  10.4  67900.0\n2555  2022-05-24  22.9    0.0     2.1    56.8  12.3  66500.0\n2556  2022-05-25  21.0    3.5     2.6    66.6   8.1  66400.0\n2557  2022-05-26  18.7    0.0     3.7    59.9  11.6  65900.0\n\n[2558 rows x 7 columns]",
      "text/html": "<div>\n<style scoped>\n    .dataframe tbody tr th:only-of-type {\n        vertical-align: middle;\n    }\n\n    .dataframe tbody tr th {\n        vertical-align: top;\n    }\n\n    .dataframe thead th {\n        text-align: right;\n    }\n</style>\n<table border=\"1\" class=\"dataframe\">\n  <thead>\n    <tr style=\"text-align: right;\">\n      <th></th>\n      <th>Date</th>\n      <th>평균기온</th>\n      <th>강수량mm</th>\n      <th>평균풍속ms</th>\n      <th>평균습도rh</th>\n      <th>일조합</th>\n      <th>Close</th>\n    </tr>\n  </thead>\n  <tbody>\n    <tr>\n      <th>0</th>\n      <td>2012-01-02</td>\n      <td>-4.8</td>\n      <td>0.0</td>\n      <td>2.3</td>\n      <td>66.5</td>\n      <td>5.9</td>\n      <td>21600.0</td>\n    </tr>\n    <tr>\n      <th>1</th>\n      <td>2012-01-03</td>\n      <td>-4.5</td>\n      <td>0.4</td>\n      <td>2.5</td>\n      <td>68.3</td>\n      <td>2.7</td>\n      <td>22100.0</td>\n    </tr>\n    <tr>\n      <th>2</th>\n      <td>2012-01-04</td>\n      <td>-7.4</td>\n      <td>0.0</td>\n      <td>3.1</td>\n      <td>55.4</td>\n      <td>8.1</td>\n      <td>21600.0</td>\n    </tr>\n    <tr>\n      <th>3</th>\n      <td>2012-01-05</td>\n      <td>-5.7</td>\n      <td>0.0</td>\n      <td>1.5</td>\n      <td>49.8</td>\n      <td>9.0</td>\n      <td>21100.0</td>\n    </tr>\n    <tr>\n      <th>4</th>\n      <td>2012-01-06</td>\n      <td>-2.8</td>\n      <td>0.0</td>\n      <td>2.5</td>\n      <td>42.9</td>\n      <td>8.4</td>\n      <td>20800.0</td>\n    </tr>\n    <tr>\n      <th>...</th>\n      <td>...</td>\n      <td>...</td>\n      <td>...</td>\n      <td>...</td>\n      <td>...</td>\n      <td>...</td>\n      <td>...</td>\n    </tr>\n    <tr>\n      <th>2553</th>\n      <td>2022-05-20</td>\n      <td>20.6</td>\n      <td>0.0</td>\n      <td>2.3</td>\n      <td>52.8</td>\n      <td>10.8</td>\n      <td>68000.0</td>\n    </tr>\n    <tr>\n      <th>2554</th>\n      <td>2022-05-23</td>\n      <td>23.0</td>\n      <td>0.0</td>\n      <td>2.3</td>\n      <td>63.5</td>\n      <td>10.4</td>\n      <td>67900.0</td>\n    </tr>\n    <tr>\n      <th>2555</th>\n      <td>2022-05-24</td>\n      <td>22.9</td>\n      <td>0.0</td>\n      <td>2.1</td>\n      <td>56.8</td>\n      <td>12.3</td>\n      <td>66500.0</td>\n    </tr>\n    <tr>\n      <th>2556</th>\n      <td>2022-05-25</td>\n      <td>21.0</td>\n      <td>3.5</td>\n      <td>2.6</td>\n      <td>66.6</td>\n      <td>8.1</td>\n      <td>66400.0</td>\n    </tr>\n    <tr>\n      <th>2557</th>\n      <td>2022-05-26</td>\n      <td>18.7</td>\n      <td>0.0</td>\n      <td>3.7</td>\n      <td>59.9</td>\n      <td>11.6</td>\n      <td>65900.0</td>\n    </tr>\n  </tbody>\n</table>\n<p>2558 rows × 7 columns</p>\n</div>"
     },
     "metadata": {},
     "output_type": "display_data"
    }
   ],
   "source": [
    "stock_weather_df = selected_weather_df.rename(columns={\"일시\":\"Date\"}).merge(selected_stock_df)\n",
    "display(stock_weather_df)"
   ],
   "metadata": {
    "collapsed": false,
    "pycharm": {
     "name": "#%%\n"
    }
   }
  },
  {
   "cell_type": "code",
   "execution_count": 92,
   "outputs": [
    {
     "data": {
      "text/plain": "Date      0\n평균기온      0\n강수량mm     0\n평균풍속ms    2\n평균습도rh    0\n일조합       9\nClose     0\ndtype: int64"
     },
     "metadata": {},
     "output_type": "display_data"
    },
    {
     "data": {
      "text/plain": "            Date  평균기온  강수량mm  평균풍속ms  평균습도rh  일조합    Close\n1460  2017-12-05  -4.2    0.1     NaN    40.1  2.1  51260.0\n1461  2017-12-06   0.2    1.2     NaN    72.6  7.7  50020.0",
      "text/html": "<div>\n<style scoped>\n    .dataframe tbody tr th:only-of-type {\n        vertical-align: middle;\n    }\n\n    .dataframe tbody tr th {\n        vertical-align: top;\n    }\n\n    .dataframe thead th {\n        text-align: right;\n    }\n</style>\n<table border=\"1\" class=\"dataframe\">\n  <thead>\n    <tr style=\"text-align: right;\">\n      <th></th>\n      <th>Date</th>\n      <th>평균기온</th>\n      <th>강수량mm</th>\n      <th>평균풍속ms</th>\n      <th>평균습도rh</th>\n      <th>일조합</th>\n      <th>Close</th>\n    </tr>\n  </thead>\n  <tbody>\n    <tr>\n      <th>1460</th>\n      <td>2017-12-05</td>\n      <td>-4.2</td>\n      <td>0.1</td>\n      <td>NaN</td>\n      <td>40.1</td>\n      <td>2.1</td>\n      <td>51260.0</td>\n    </tr>\n    <tr>\n      <th>1461</th>\n      <td>2017-12-06</td>\n      <td>0.2</td>\n      <td>1.2</td>\n      <td>NaN</td>\n      <td>72.6</td>\n      <td>7.7</td>\n      <td>50020.0</td>\n    </tr>\n  </tbody>\n</table>\n</div>"
     },
     "metadata": {},
     "output_type": "display_data"
    },
    {
     "data": {
      "text/plain": "            Date  평균기온  강수량mm  평균풍속ms  평균습도rh  일조합    Close\n1418  2017-09-28  19.2    0.0     2.8    49.1  NaN  51260.0\n1422  2017-10-12  11.4    0.0     2.0    71.0  NaN  54800.0\n1449  2017-11-20  -0.4    0.0     1.4    55.3  NaN  55200.0\n1454  2017-11-27   2.5    0.0     1.3    53.0  NaN  52640.0\n1457  2017-11-30  -2.4    0.0     3.3    26.8  NaN  50800.0\n1488  2018-01-18   2.1    0.0     1.9    59.6  NaN  49900.0\n1494  2018-01-26 -14.8    0.0     2.6    34.9  NaN  50780.0\n1882  2019-08-28  26.1    0.0     1.9    66.2  NaN  44150.0\n2217  2021-01-07 -14.5    0.0     4.1    49.9  NaN  82900.0",
      "text/html": "<div>\n<style scoped>\n    .dataframe tbody tr th:only-of-type {\n        vertical-align: middle;\n    }\n\n    .dataframe tbody tr th {\n        vertical-align: top;\n    }\n\n    .dataframe thead th {\n        text-align: right;\n    }\n</style>\n<table border=\"1\" class=\"dataframe\">\n  <thead>\n    <tr style=\"text-align: right;\">\n      <th></th>\n      <th>Date</th>\n      <th>평균기온</th>\n      <th>강수량mm</th>\n      <th>평균풍속ms</th>\n      <th>평균습도rh</th>\n      <th>일조합</th>\n      <th>Close</th>\n    </tr>\n  </thead>\n  <tbody>\n    <tr>\n      <th>1418</th>\n      <td>2017-09-28</td>\n      <td>19.2</td>\n      <td>0.0</td>\n      <td>2.8</td>\n      <td>49.1</td>\n      <td>NaN</td>\n      <td>51260.0</td>\n    </tr>\n    <tr>\n      <th>1422</th>\n      <td>2017-10-12</td>\n      <td>11.4</td>\n      <td>0.0</td>\n      <td>2.0</td>\n      <td>71.0</td>\n      <td>NaN</td>\n      <td>54800.0</td>\n    </tr>\n    <tr>\n      <th>1449</th>\n      <td>2017-11-20</td>\n      <td>-0.4</td>\n      <td>0.0</td>\n      <td>1.4</td>\n      <td>55.3</td>\n      <td>NaN</td>\n      <td>55200.0</td>\n    </tr>\n    <tr>\n      <th>1454</th>\n      <td>2017-11-27</td>\n      <td>2.5</td>\n      <td>0.0</td>\n      <td>1.3</td>\n      <td>53.0</td>\n      <td>NaN</td>\n      <td>52640.0</td>\n    </tr>\n    <tr>\n      <th>1457</th>\n      <td>2017-11-30</td>\n      <td>-2.4</td>\n      <td>0.0</td>\n      <td>3.3</td>\n      <td>26.8</td>\n      <td>NaN</td>\n      <td>50800.0</td>\n    </tr>\n    <tr>\n      <th>1488</th>\n      <td>2018-01-18</td>\n      <td>2.1</td>\n      <td>0.0</td>\n      <td>1.9</td>\n      <td>59.6</td>\n      <td>NaN</td>\n      <td>49900.0</td>\n    </tr>\n    <tr>\n      <th>1494</th>\n      <td>2018-01-26</td>\n      <td>-14.8</td>\n      <td>0.0</td>\n      <td>2.6</td>\n      <td>34.9</td>\n      <td>NaN</td>\n      <td>50780.0</td>\n    </tr>\n    <tr>\n      <th>1882</th>\n      <td>2019-08-28</td>\n      <td>26.1</td>\n      <td>0.0</td>\n      <td>1.9</td>\n      <td>66.2</td>\n      <td>NaN</td>\n      <td>44150.0</td>\n    </tr>\n    <tr>\n      <th>2217</th>\n      <td>2021-01-07</td>\n      <td>-14.5</td>\n      <td>0.0</td>\n      <td>4.1</td>\n      <td>49.9</td>\n      <td>NaN</td>\n      <td>82900.0</td>\n    </tr>\n  </tbody>\n</table>\n</div>"
     },
     "metadata": {},
     "output_type": "display_data"
    }
   ],
   "source": [
    "display(stock_weather_df.isnull().sum())\n",
    "display(stock_weather_df[stock_weather_df['평균풍속ms'].isnull()])\n",
    "display(stock_weather_df[stock_weather_df['일조합'].isnull()])\n",
    "stock_weather_df = stock_weather_df.fillna(0)"
   ],
   "metadata": {
    "collapsed": false,
    "pycharm": {
     "name": "#%% na\n"
    }
   }
  },
  {
   "cell_type": "markdown",
   "source": [
    "## 2. Training"
   ],
   "metadata": {
    "collapsed": false,
    "pycharm": {
     "name": "#%% md\n"
    }
   }
  },
  {
   "cell_type": "code",
   "execution_count": 93,
   "outputs": [],
   "source": [
    "import torch\n",
    "import torch.nn as nn\n",
    "import torch.nn.functional as F\n",
    "\n",
    "class StockModel(nn.Module):\n",
    "    def __init__(self, input_dim, t_dim, h_c=256, num_layers=2):\n",
    "        super(StockModel, self).__init__()\n",
    "        self.input_dim = input_dim\n",
    "        self.t_dim = t_dim\n",
    "\n",
    "        self.rnn = nn.GRU(input_size=input_dim, hidden_size=h_c, num_layers=num_layers, batch_first=True)\n",
    "        self.fc = nn.Linear(in_features=h_c, out_features=1)\n",
    "\n",
    "    def forward(self, x):\n",
    "        output, hn = self.rnn(x)\n",
    "        return self.fc(output[:, :, :]) # batch, last_cell, out_dim\n"
   ],
   "metadata": {
    "collapsed": false,
    "pycharm": {
     "name": "#%%\n"
    }
   }
  },
  {
   "cell_type": "markdown",
   "source": [
    "### 2) Dataloader"
   ],
   "metadata": {
    "collapsed": false,
    "pycharm": {
     "name": "#%% md\n"
    }
   }
  },
  {
   "cell_type": "code",
   "execution_count": 94,
   "outputs": [
    {
     "data": {
      "text/plain": "       평균기온     강수량mm    평균풍속ms    평균습도rh       일조합     Close\n0 -1.620981 -0.276420 -0.192611  0.498315 -0.234437 -1.366412\n1 -1.593744 -0.241892  0.036974  0.620731 -1.045259 -1.281495\n2 -1.857033 -0.276420  0.725729 -0.256583  0.323003 -1.366412",
      "text/html": "<div>\n<style scoped>\n    .dataframe tbody tr th:only-of-type {\n        vertical-align: middle;\n    }\n\n    .dataframe tbody tr th {\n        vertical-align: top;\n    }\n\n    .dataframe thead th {\n        text-align: right;\n    }\n</style>\n<table border=\"1\" class=\"dataframe\">\n  <thead>\n    <tr style=\"text-align: right;\">\n      <th></th>\n      <th>평균기온</th>\n      <th>강수량mm</th>\n      <th>평균풍속ms</th>\n      <th>평균습도rh</th>\n      <th>일조합</th>\n      <th>Close</th>\n    </tr>\n  </thead>\n  <tbody>\n    <tr>\n      <th>0</th>\n      <td>-1.620981</td>\n      <td>-0.276420</td>\n      <td>-0.192611</td>\n      <td>0.498315</td>\n      <td>-0.234437</td>\n      <td>-1.366412</td>\n    </tr>\n    <tr>\n      <th>1</th>\n      <td>-1.593744</td>\n      <td>-0.241892</td>\n      <td>0.036974</td>\n      <td>0.620731</td>\n      <td>-1.045259</td>\n      <td>-1.281495</td>\n    </tr>\n    <tr>\n      <th>2</th>\n      <td>-1.857033</td>\n      <td>-0.276420</td>\n      <td>0.725729</td>\n      <td>-0.256583</td>\n      <td>0.323003</td>\n      <td>-1.366412</td>\n    </tr>\n  </tbody>\n</table>\n</div>"
     },
     "metadata": {},
     "output_type": "display_data"
    },
    {
     "data": {
      "text/plain": "          평균기온    강수량mm    평균풍속ms    평균습도rh       일조합     Close\n1720 -1.630060 -0.27642 -0.881366 -1.113494  0.475032  0.802278\n1721 -1.502955 -0.27642 -1.225743 -1.385530  0.475032  0.690485\n1722 -1.285061 -0.27642 -1.455328 -0.249782 -0.741201  0.675651",
      "text/html": "<div>\n<style scoped>\n    .dataframe tbody tr th:only-of-type {\n        vertical-align: middle;\n    }\n\n    .dataframe tbody tr th {\n        vertical-align: top;\n    }\n\n    .dataframe thead th {\n        text-align: right;\n    }\n</style>\n<table border=\"1\" class=\"dataframe\">\n  <thead>\n    <tr style=\"text-align: right;\">\n      <th></th>\n      <th>평균기온</th>\n      <th>강수량mm</th>\n      <th>평균풍속ms</th>\n      <th>평균습도rh</th>\n      <th>일조합</th>\n      <th>Close</th>\n    </tr>\n  </thead>\n  <tbody>\n    <tr>\n      <th>1720</th>\n      <td>-1.630060</td>\n      <td>-0.27642</td>\n      <td>-0.881366</td>\n      <td>-1.113494</td>\n      <td>0.475032</td>\n      <td>0.802278</td>\n    </tr>\n    <tr>\n      <th>1721</th>\n      <td>-1.502955</td>\n      <td>-0.27642</td>\n      <td>-1.225743</td>\n      <td>-1.385530</td>\n      <td>0.475032</td>\n      <td>0.690485</td>\n    </tr>\n    <tr>\n      <th>1722</th>\n      <td>-1.285061</td>\n      <td>-0.27642</td>\n      <td>-1.455328</td>\n      <td>-0.249782</td>\n      <td>-0.741201</td>\n      <td>0.675651</td>\n    </tr>\n  </tbody>\n</table>\n</div>"
     },
     "metadata": {},
     "output_type": "display_data"
    }
   ],
   "source": [
    "from torch.utils.data import DataLoader, Dataset\n",
    "\n",
    "class StockDataset(Dataset):\n",
    "    def __init__(self, df, t_dim, label:List = None,):\n",
    "        super(StockDataset, self).__init__()\n",
    "        self.df = df.reset_index(drop=True)\n",
    "        self.t_dim = t_dim\n",
    "        if label is None:\n",
    "            label = df.columns\n",
    "        self.label = label\n",
    "        self.total_length = len(df) - (t_dim + 1)\n",
    "\n",
    "    def __len__(self):\n",
    "        return self.total_length\n",
    "\n",
    "    def __getitem__(self, idx):\n",
    "        x = self.df.loc[idx: idx+self.t_dim-1].values\n",
    "        y = self.df.loc[idx+1: idx+self.t_dim][self.label].values\n",
    "        return x, y\n",
    "# preprocess\n",
    "# log\n",
    "stock_weather_df['Close'] = np.log(1+stock_weather_df['Close'])\n",
    "train_df = stock_weather_df[stock_weather_df['Date'] < '2019-01-01'].drop(columns='Date')\n",
    "test_df = stock_weather_df[stock_weather_df['Date'] >= '2019-01-01'].drop(columns='Date')\n",
    "\n",
    "train_mean, train_std = train_df.mean(), train_df.std()\n",
    "\n",
    "train_df = (train_df - train_mean) / train_std\n",
    "test_df = (test_df - train_mean) / train_std\n",
    "\n",
    "display(train_df.head(3), test_df.head(3))"
   ],
   "metadata": {
    "collapsed": false,
    "pycharm": {
     "name": "#%%\n"
    }
   }
  },
  {
   "cell_type": "code",
   "execution_count": 95,
   "outputs": [],
   "source": [
    "def train(model, train_loader, criterion, optimizer, epochs=10, device=torch.device('cpu'), valid_loader=None):\n",
    "    model = model.to(device)\n",
    "    for epoch in range(epochs):\n",
    "        running_loss = 0\n",
    "        # train\n",
    "        for step, (x, y) in enumerate(train_loader):\n",
    "            x, y = x.float().to(device), y.float().to(device)\n",
    "            optimizer.zero_grad()\n",
    "\n",
    "            pred = model(x)\n",
    "            loss =criterion(pred, y)\n",
    "\n",
    "            loss.backward()\n",
    "            optimizer.step()\n",
    "\n",
    "            running_loss += loss.item()\n",
    "            if (step+1) % 100 == 0:\n",
    "                print(f\"{epoch+1} epoch : {step+1 :5d}step - loss={running_loss/(step+1)}\")\n",
    "        print(f\"{epoch+1} epoch : {step+1 :5d}step - loss={running_loss/(step+1)}\")\n",
    "\n",
    "        # valid\n",
    "        if valid_loader is not None:\n",
    "            valid_loss = 0\n",
    "            for step, (x, y) in enumerate(valid_loader):\n",
    "                x, y = x.float().to(device), y.float().to(device)\n",
    "                pred = model(x)\n",
    "                valid_loss += F.l1_loss(pred, y).item()\n",
    "            print(f\"valid_loss={valid_loss/(step+1)}\")\n",
    "\n",
    "    return model"
   ],
   "metadata": {
    "collapsed": false,
    "pycharm": {
     "name": "#%%\n"
    }
   }
  },
  {
   "cell_type": "code",
   "execution_count": 96,
   "outputs": [
    {
     "name": "stdout",
     "output_type": "stream",
     "text": [
      "cuda\n"
     ]
    }
   ],
   "source": [
    "# config\n",
    "batch_size = 32\n",
    "t_dim = 24  # todo: 변수명 변경 필요..\n",
    "input_dim = len(weather_columns) + len(stock_columns)\n",
    "epochs = 10\n",
    "device = torch.device('cuda') if torch.cuda.is_available() else torch.device('cpu')\n",
    "print(device)"
   ],
   "metadata": {
    "collapsed": false,
    "pycharm": {
     "name": "#%%\n"
    }
   }
  },
  {
   "cell_type": "markdown",
   "source": [
    "Train using only stock price data"
   ],
   "metadata": {
    "collapsed": false,
    "pycharm": {
     "name": "#%% md\n"
    }
   }
  },
  {
   "cell_type": "code",
   "execution_count": 97,
   "outputs": [
    {
     "name": "stdout",
     "output_type": "stream",
     "text": [
      "1 epoch :    53step - loss=0.09312282950740378\n",
      "valid_loss=0.18607042815822822\n",
      "2 epoch :    53step - loss=0.014180956724679694\n",
      "valid_loss=0.35542036736240756\n",
      "3 epoch :    53step - loss=0.009093610319431941\n",
      "valid_loss=0.14008191457161537\n",
      "4 epoch :    53step - loss=0.0074058351555030865\n",
      "valid_loss=0.12647116298858935\n",
      "5 epoch :    53step - loss=0.006942121421847984\n",
      "valid_loss=0.1294395778901302\n",
      "6 epoch :    53step - loss=0.012307862597429808\n",
      "valid_loss=0.1306858855084731\n",
      "7 epoch :    53step - loss=0.005682153776639475\n",
      "valid_loss=0.35515443980693817\n",
      "8 epoch :    53step - loss=0.005962995948480829\n",
      "valid_loss=0.18193556511631379\n",
      "9 epoch :    53step - loss=0.00679250966476382\n",
      "valid_loss=0.1788157091404383\n",
      "10 epoch :    53step - loss=0.010920617110008057\n",
      "valid_loss=0.17282057438905424\n"
     ]
    }
   ],
   "source": [
    "# model\n",
    "stock_model = StockModel(1, t_dim=t_dim) # input_dim=1: [stock price value]\n",
    "# dataloader\n",
    "train_ds = StockDataset(train_df[['Close']], t_dim=t_dim, label=['Close'])\n",
    "train_loader = DataLoader(train_ds, batch_size=batch_size, shuffle=True)\n",
    "valid_ds = StockDataset(test_df[['Close']], t_dim=t_dim, label=['Close'])\n",
    "valid_loader = DataLoader(valid_ds, batch_size=batch_size, shuffle=False)\n",
    "# loss, optimizer\n",
    "criterion = nn.MSELoss()\n",
    "optimizer = torch.optim.RMSprop(stock_model.parameters(), lr=0.001)\n",
    "# train\n",
    "model = train(stock_model, train_loader, criterion, optimizer, epochs, device=device,\n",
    "              valid_loader=valid_loader)\n"
   ],
   "metadata": {
    "collapsed": false,
    "pycharm": {
     "name": "#%%\n"
    }
   }
  },
  {
   "cell_type": "markdown",
   "source": [
    "Train stock price & weather data"
   ],
   "metadata": {
    "collapsed": false
   }
  },
  {
   "cell_type": "code",
   "execution_count": 98,
   "outputs": [
    {
     "name": "stdout",
     "output_type": "stream",
     "text": [
      "1 epoch :    53step - loss=0.21847050700266407\n",
      "valid_loss=0.32899341216454137\n",
      "2 epoch :    53step - loss=0.024235810399196058\n",
      "valid_loss=0.3541843260710056\n",
      "3 epoch :    53step - loss=0.01409255968898816\n",
      "valid_loss=0.17057287521087205\n",
      "4 epoch :    53step - loss=0.012220212434119773\n",
      "valid_loss=0.20177223533391953\n",
      "5 epoch :    53step - loss=0.007771459276313489\n",
      "valid_loss=0.23019099006286034\n",
      "6 epoch :    53step - loss=0.007766554290253036\n",
      "valid_loss=0.1623167137687023\n",
      "7 epoch :    53step - loss=0.007993196392045269\n",
      "valid_loss=0.1933013338309068\n",
      "8 epoch :    53step - loss=0.010161591026018251\n",
      "valid_loss=0.24874989401835662\n",
      "9 epoch :    53step - loss=0.007253518306105485\n",
      "valid_loss=0.2909256168282949\n",
      "10 epoch :    53step - loss=0.009728433823494136\n",
      "valid_loss=0.21129524937042823\n"
     ]
    }
   ],
   "source": [
    "model = StockModel(input_dim, t_dim)\n",
    "\n",
    "train_ds = StockDataset(train_df, t_dim=t_dim, label=['Close'])\n",
    "train_loader = DataLoader(train_ds, batch_size=batch_size, shuffle=True)\n",
    "valid_ds = StockDataset(test_df, t_dim=t_dim, label=['Close'])\n",
    "valid_loader = DataLoader(valid_ds, batch_size=batch_size, shuffle=True)\n",
    "\n",
    "criterion = nn.MSELoss()\n",
    "optimizer = torch.optim.RMSprop(model.parameters(), lr=0.001)\n",
    "model = train(model, train_loader, criterion, optimizer, epochs, device=device,\n",
    "              valid_loader=valid_loader)"
   ],
   "metadata": {
    "collapsed": false,
    "pycharm": {
     "name": "#%%\n"
    }
   }
  },
  {
   "cell_type": "code",
   "execution_count": 98,
   "outputs": [],
   "source": [],
   "metadata": {
    "collapsed": false,
    "pycharm": {
     "name": "#%%\n"
    }
   }
  }
 ],
 "metadata": {
  "kernelspec": {
   "display_name": "Python 3",
   "language": "python",
   "name": "python3"
  },
  "language_info": {
   "codemirror_mode": {
    "name": "ipython",
    "version": 2
   },
   "file_extension": ".py",
   "mimetype": "text/x-python",
   "name": "python",
   "nbconvert_exporter": "python",
   "pygments_lexer": "ipython2",
   "version": "2.7.6"
  }
 },
 "nbformat": 4,
 "nbformat_minor": 0
}