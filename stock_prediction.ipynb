{
 "cells": [
  {
   "cell_type": "code",
   "metadata": {
    "collapsed": true,
    "pycharm": {
     "name": "#%%\n"
    }
   },
   "source": [
    "import pandas as pd\n",
    "import matplotlib\n",
    "import matplotlib.pyplot as plt\n",
    "from IPython.display import display\n",
    "import seaborn as sns\n",
    "import numpy as np\n",
    "from typing import List, Callable\n",
    "# import tensorflow as tf\n",
    "# from tensorflow.keras import layers\n",
    "\n",
    "\n",
    "# matplotlib.font_manager._rebuild()\n",
    "plt.rc('font', family='Malgun Gothic')\n",
    "plt.rcParams['axes.unicode_minus'] = False #한글 폰트 사용시 마이너스 폰트 깨짐 해결\n",
    "sns.set(font=\"Malgun Gothic\",rc={\"axes.unicode_minus\":False}, style='whitegrid')"
   ],
   "execution_count": 109,
   "outputs": []
  },
  {
   "cell_type": "code",
   "execution_count": 110,
   "outputs": [],
   "source": [
    "data_root = \"./data/daily\""
   ],
   "metadata": {
    "collapsed": false,
    "pycharm": {
     "name": "#%%\n"
    }
   }
  },
  {
   "cell_type": "markdown",
   "source": [
    "## 1. Data 준비\n",
    "\n",
    "### 1) Weather data"
   ],
   "metadata": {
    "collapsed": false
   }
  },
  {
   "cell_type": "code",
   "execution_count": 111,
   "outputs": [
    {
     "data": {
      "text/plain": "           일시  평균기온  강수량mm  평균풍속ms  평균습도rh  일조합\n0  2012-01-01  -3.0    0.0     2.9    64.5  4.4\n1  2012-01-02  -4.8    0.0     2.3    66.5  5.9\n2  2012-01-03  -4.5    0.4     2.5    68.3  2.7",
      "text/html": "<div>\n<style scoped>\n    .dataframe tbody tr th:only-of-type {\n        vertical-align: middle;\n    }\n\n    .dataframe tbody tr th {\n        vertical-align: top;\n    }\n\n    .dataframe thead th {\n        text-align: right;\n    }\n</style>\n<table border=\"1\" class=\"dataframe\">\n  <thead>\n    <tr style=\"text-align: right;\">\n      <th></th>\n      <th>일시</th>\n      <th>평균기온</th>\n      <th>강수량mm</th>\n      <th>평균풍속ms</th>\n      <th>평균습도rh</th>\n      <th>일조합</th>\n    </tr>\n  </thead>\n  <tbody>\n    <tr>\n      <th>0</th>\n      <td>2012-01-01</td>\n      <td>-3.0</td>\n      <td>0.0</td>\n      <td>2.9</td>\n      <td>64.5</td>\n      <td>4.4</td>\n    </tr>\n    <tr>\n      <th>1</th>\n      <td>2012-01-02</td>\n      <td>-4.8</td>\n      <td>0.0</td>\n      <td>2.3</td>\n      <td>66.5</td>\n      <td>5.9</td>\n    </tr>\n    <tr>\n      <th>2</th>\n      <td>2012-01-03</td>\n      <td>-4.5</td>\n      <td>0.4</td>\n      <td>2.5</td>\n      <td>68.3</td>\n      <td>2.7</td>\n    </tr>\n  </tbody>\n</table>\n</div>"
     },
     "metadata": {},
     "output_type": "display_data"
    }
   ],
   "source": [
    "# load each data\n",
    "temp_df = pd.read_csv(f'{data_root}/Temperatures.csv', encoding='cp949')\n",
    "precip_df = pd.read_csv(f'{data_root}/Precipitation.csv', encoding='cp949').fillna(0)\n",
    "wind_df = pd.read_csv(f'{data_root}/Wind.csv', encoding='cp949')\n",
    "humidity_df = pd.read_csv(f'{data_root}/Humidity.csv', encoding='cp949')\n",
    "sunshine_df = pd.read_csv(f'{data_root}/Sunshine.csv', encoding='cp949')\n",
    "\n",
    "# merge\n",
    "weather_df = temp_df.merge(precip_df).merge(wind_df).merge(humidity_df).merge(sunshine_df)\n",
    "weather_columns = [\"평균기온\", \"강수량mm\", \"평균풍속ms\", \"평균습도rh\",\"일조합\"]\n",
    "\n",
    "selected_weather_df = weather_df[['일시']+weather_columns]\n",
    "display(selected_weather_df.head(3))"
   ],
   "metadata": {
    "collapsed": false,
    "pycharm": {
     "name": "#%%\n"
    }
   }
  },
  {
   "cell_type": "markdown",
   "source": [
    "### 2) Stock data"
   ],
   "metadata": {
    "collapsed": false,
    "pycharm": {
     "name": "#%% md\n"
    }
   }
  },
  {
   "cell_type": "code",
   "execution_count": 112,
   "outputs": [
    {
     "data": {
      "text/plain": "         Date   Close\n0  2000-01-04  6110.0\n1  2000-01-05  5580.0\n2  2000-01-06  5620.0",
      "text/html": "<div>\n<style scoped>\n    .dataframe tbody tr th:only-of-type {\n        vertical-align: middle;\n    }\n\n    .dataframe tbody tr th {\n        vertical-align: top;\n    }\n\n    .dataframe thead th {\n        text-align: right;\n    }\n</style>\n<table border=\"1\" class=\"dataframe\">\n  <thead>\n    <tr style=\"text-align: right;\">\n      <th></th>\n      <th>Date</th>\n      <th>Close</th>\n    </tr>\n  </thead>\n  <tbody>\n    <tr>\n      <th>0</th>\n      <td>2000-01-04</td>\n      <td>6110.0</td>\n    </tr>\n    <tr>\n      <th>1</th>\n      <td>2000-01-05</td>\n      <td>5580.0</td>\n    </tr>\n    <tr>\n      <th>2</th>\n      <td>2000-01-06</td>\n      <td>5620.0</td>\n    </tr>\n  </tbody>\n</table>\n</div>"
     },
     "metadata": {},
     "output_type": "display_data"
    }
   ],
   "source": [
    "company_name = \"Samsung Electronics Co\"\n",
    "stock_price_df = pd.read_csv(f'./data/stock/{company_name}.csv')\n",
    "stock_columns = ['Close']\n",
    "selected_stock_df = stock_price_df[['Date'] + stock_columns]\n",
    "display(selected_stock_df.head(3))"
   ],
   "metadata": {
    "collapsed": false,
    "pycharm": {
     "name": "#%%\n"
    }
   }
  },
  {
   "cell_type": "markdown",
   "source": [
    "### 3) Merge"
   ],
   "metadata": {
    "collapsed": false,
    "pycharm": {
     "name": "#%% md\n"
    }
   }
  },
  {
   "cell_type": "code",
   "execution_count": 113,
   "outputs": [
    {
     "data": {
      "text/plain": "            Date  평균기온  강수량mm  평균풍속ms  평균습도rh   일조합    Close\n0     2012-01-02  -4.8    0.0     2.3    66.5   5.9  21600.0\n1     2012-01-03  -4.5    0.4     2.5    68.3   2.7  22100.0\n2     2012-01-04  -7.4    0.0     3.1    55.4   8.1  21600.0\n3     2012-01-05  -5.7    0.0     1.5    49.8   9.0  21100.0\n4     2012-01-06  -2.8    0.0     2.5    42.9   8.4  20800.0\n...          ...   ...    ...     ...     ...   ...      ...\n2553  2022-05-20  20.6    0.0     2.3    52.8  10.8  68000.0\n2554  2022-05-23  23.0    0.0     2.3    63.5  10.4  67900.0\n2555  2022-05-24  22.9    0.0     2.1    56.8  12.3  66500.0\n2556  2022-05-25  21.0    3.5     2.6    66.6   8.1  66400.0\n2557  2022-05-26  18.7    0.0     3.7    59.9  11.6  65900.0\n\n[2558 rows x 7 columns]",
      "text/html": "<div>\n<style scoped>\n    .dataframe tbody tr th:only-of-type {\n        vertical-align: middle;\n    }\n\n    .dataframe tbody tr th {\n        vertical-align: top;\n    }\n\n    .dataframe thead th {\n        text-align: right;\n    }\n</style>\n<table border=\"1\" class=\"dataframe\">\n  <thead>\n    <tr style=\"text-align: right;\">\n      <th></th>\n      <th>Date</th>\n      <th>평균기온</th>\n      <th>강수량mm</th>\n      <th>평균풍속ms</th>\n      <th>평균습도rh</th>\n      <th>일조합</th>\n      <th>Close</th>\n    </tr>\n  </thead>\n  <tbody>\n    <tr>\n      <th>0</th>\n      <td>2012-01-02</td>\n      <td>-4.8</td>\n      <td>0.0</td>\n      <td>2.3</td>\n      <td>66.5</td>\n      <td>5.9</td>\n      <td>21600.0</td>\n    </tr>\n    <tr>\n      <th>1</th>\n      <td>2012-01-03</td>\n      <td>-4.5</td>\n      <td>0.4</td>\n      <td>2.5</td>\n      <td>68.3</td>\n      <td>2.7</td>\n      <td>22100.0</td>\n    </tr>\n    <tr>\n      <th>2</th>\n      <td>2012-01-04</td>\n      <td>-7.4</td>\n      <td>0.0</td>\n      <td>3.1</td>\n      <td>55.4</td>\n      <td>8.1</td>\n      <td>21600.0</td>\n    </tr>\n    <tr>\n      <th>3</th>\n      <td>2012-01-05</td>\n      <td>-5.7</td>\n      <td>0.0</td>\n      <td>1.5</td>\n      <td>49.8</td>\n      <td>9.0</td>\n      <td>21100.0</td>\n    </tr>\n    <tr>\n      <th>4</th>\n      <td>2012-01-06</td>\n      <td>-2.8</td>\n      <td>0.0</td>\n      <td>2.5</td>\n      <td>42.9</td>\n      <td>8.4</td>\n      <td>20800.0</td>\n    </tr>\n    <tr>\n      <th>...</th>\n      <td>...</td>\n      <td>...</td>\n      <td>...</td>\n      <td>...</td>\n      <td>...</td>\n      <td>...</td>\n      <td>...</td>\n    </tr>\n    <tr>\n      <th>2553</th>\n      <td>2022-05-20</td>\n      <td>20.6</td>\n      <td>0.0</td>\n      <td>2.3</td>\n      <td>52.8</td>\n      <td>10.8</td>\n      <td>68000.0</td>\n    </tr>\n    <tr>\n      <th>2554</th>\n      <td>2022-05-23</td>\n      <td>23.0</td>\n      <td>0.0</td>\n      <td>2.3</td>\n      <td>63.5</td>\n      <td>10.4</td>\n      <td>67900.0</td>\n    </tr>\n    <tr>\n      <th>2555</th>\n      <td>2022-05-24</td>\n      <td>22.9</td>\n      <td>0.0</td>\n      <td>2.1</td>\n      <td>56.8</td>\n      <td>12.3</td>\n      <td>66500.0</td>\n    </tr>\n    <tr>\n      <th>2556</th>\n      <td>2022-05-25</td>\n      <td>21.0</td>\n      <td>3.5</td>\n      <td>2.6</td>\n      <td>66.6</td>\n      <td>8.1</td>\n      <td>66400.0</td>\n    </tr>\n    <tr>\n      <th>2557</th>\n      <td>2022-05-26</td>\n      <td>18.7</td>\n      <td>0.0</td>\n      <td>3.7</td>\n      <td>59.9</td>\n      <td>11.6</td>\n      <td>65900.0</td>\n    </tr>\n  </tbody>\n</table>\n<p>2558 rows × 7 columns</p>\n</div>"
     },
     "metadata": {},
     "output_type": "display_data"
    }
   ],
   "source": [
    "stock_weather_df = selected_weather_df.rename(columns={\"일시\":\"Date\"}).merge(selected_stock_df)\n",
    "display(stock_weather_df)"
   ],
   "metadata": {
    "collapsed": false,
    "pycharm": {
     "name": "#%%\n"
    }
   }
  },
  {
   "cell_type": "markdown",
   "source": [
    "## 2. Training\n",
    "### 1) RNN"
   ],
   "metadata": {
    "collapsed": false,
    "pycharm": {
     "name": "#%% md\n"
    }
   }
  },
  {
   "cell_type": "code",
   "execution_count": 114,
   "outputs": [],
   "source": [
    "# cfg\n",
    "batch_size = 5\n",
    "t_dim = 24  # todo: 변수명 변경 필요..\n",
    "input_dim = len(weather_columns) + len(stock_columns)\n",
    "epochs = 10"
   ],
   "metadata": {
    "collapsed": false,
    "pycharm": {
     "name": "#%%\n"
    }
   }
  },
  {
   "cell_type": "code",
   "execution_count": 115,
   "outputs": [],
   "source": [
    "import torch\n",
    "import torch.nn as nn\n",
    "\n",
    "class StockModel(nn.Module):\n",
    "    def __init__(self, input_dim, t_dim, h_c=32, num_layers=2):\n",
    "        super(StockModel, self).__init__()\n",
    "        self.input_dim = input_dim\n",
    "        self.t_dim = t_dim\n",
    "\n",
    "        self.rnn = nn.LSTM(input_size=input_dim, hidden_size=h_c, num_layers=num_layers, batch_first=True)\n",
    "        self.fc = nn.Linear(in_features=h_c, out_features=1)\n",
    "\n",
    "    def forward(self, x):\n",
    "        output, hn = self.rnn(x)\n",
    "        return self.fc(output[:, -1, :]) # batch, last_cell, out_dim\n",
    "\n",
    "model = StockModel(input_dim, t_dim)"
   ],
   "metadata": {
    "collapsed": false,
    "pycharm": {
     "name": "#%%\n"
    }
   }
  },
  {
   "cell_type": "markdown",
   "source": [
    "### 2) Dataloader"
   ],
   "metadata": {
    "collapsed": false,
    "pycharm": {
     "name": "#%% md\n"
    }
   }
  },
  {
   "cell_type": "code",
   "execution_count": 116,
   "outputs": [],
   "source": [
    "from torch.utils.data import DataLoader, Dataset\n",
    "\n",
    "class StockDataset(Dataset):\n",
    "    def __init__(self, df, t_dim, label:List = None,):\n",
    "        super(StockDataset, self).__init__()\n",
    "        self.df = df\n",
    "        self.t_dim = t_dim\n",
    "        if label is None:\n",
    "            label = df.columns\n",
    "        self.label = label\n",
    "        self.total_length = len(df) - (t_dim + 1)\n",
    "\n",
    "    def __len__(self):\n",
    "        return self.total_length\n",
    "\n",
    "    def __getitem__(self, idx):\n",
    "        x = self.df.loc[idx: idx+self.t_dim-1].values\n",
    "        y = self.df.loc[idx+self.t_dim][self.label].values\n",
    "        return x, y\n",
    "\n",
    "ds = StockDataset(stock_weather_df.drop(columns='Date'), t_dim=t_dim, label=['Close'])\n",
    "dataloader = DataLoader(ds, batch_size=4, shuffle=True)"
   ],
   "metadata": {
    "collapsed": false,
    "pycharm": {
     "name": "#%%\n"
    }
   }
  },
  {
   "cell_type": "code",
   "execution_count": 117,
   "outputs": [
    {
     "name": "stdout",
     "output_type": "stream",
     "text": [
      "1 epoch :   100 loss=nan\n",
      "1 epoch :   200 loss=nan\n",
      "1 epoch :   300 loss=nan\n",
      "1 epoch :   400 loss=nan\n",
      "1 epoch :   500 loss=nan\n",
      "1 epoch :   600 loss=nan\n",
      "2 epoch :   100 loss=nan\n",
      "2 epoch :   200 loss=nan\n",
      "2 epoch :   300 loss=nan\n",
      "2 epoch :   400 loss=nan\n",
      "2 epoch :   500 loss=nan\n",
      "2 epoch :   600 loss=nan\n",
      "3 epoch :   100 loss=nan\n",
      "3 epoch :   200 loss=nan\n",
      "3 epoch :   300 loss=nan\n",
      "3 epoch :   400 loss=nan\n",
      "3 epoch :   500 loss=nan\n",
      "3 epoch :   600 loss=nan\n",
      "4 epoch :   100 loss=nan\n",
      "4 epoch :   200 loss=nan\n",
      "4 epoch :   300 loss=nan\n",
      "4 epoch :   400 loss=nan\n",
      "4 epoch :   500 loss=nan\n",
      "4 epoch :   600 loss=nan\n",
      "5 epoch :   100 loss=nan\n",
      "5 epoch :   200 loss=nan\n",
      "5 epoch :   300 loss=nan\n",
      "5 epoch :   400 loss=nan\n",
      "5 epoch :   500 loss=nan\n",
      "5 epoch :   600 loss=nan\n",
      "6 epoch :   100 loss=nan\n",
      "6 epoch :   200 loss=nan\n",
      "6 epoch :   300 loss=nan\n",
      "6 epoch :   400 loss=nan\n",
      "6 epoch :   500 loss=nan\n",
      "6 epoch :   600 loss=nan\n",
      "7 epoch :   100 loss=nan\n",
      "7 epoch :   200 loss=nan\n",
      "7 epoch :   300 loss=nan\n",
      "7 epoch :   400 loss=nan\n",
      "7 epoch :   500 loss=nan\n",
      "7 epoch :   600 loss=nan\n",
      "8 epoch :   100 loss=nan\n",
      "8 epoch :   200 loss=nan\n",
      "8 epoch :   300 loss=nan\n",
      "8 epoch :   400 loss=nan\n",
      "8 epoch :   500 loss=nan\n",
      "8 epoch :   600 loss=nan\n",
      "9 epoch :   100 loss=nan\n",
      "9 epoch :   200 loss=nan\n",
      "9 epoch :   300 loss=nan\n",
      "9 epoch :   400 loss=nan\n",
      "9 epoch :   500 loss=nan\n",
      "9 epoch :   600 loss=nan\n",
      "10 epoch :   100 loss=nan\n",
      "10 epoch :   200 loss=nan\n",
      "10 epoch :   300 loss=nan\n",
      "10 epoch :   400 loss=nan\n",
      "10 epoch :   500 loss=nan\n",
      "10 epoch :   600 loss=nan\n"
     ]
    }
   ],
   "source": [
    "def train(model, train_loader, criterion, optimizer):\n",
    "    for epoch in range(epochs):\n",
    "        running_loss = 0\n",
    "        for step, (x, y) in enumerate(train_loader):\n",
    "            x, y = x.float(), y.float()\n",
    "            optimizer.zero_grad()\n",
    "\n",
    "            pred = model(x)\n",
    "            loss =criterion(pred, y)\n",
    "\n",
    "            loss.backward()\n",
    "            optimizer.step()\n",
    "\n",
    "            running_loss += loss.item()\n",
    "            if (step+1) % 100 == 0:\n",
    "                print(f\"{epoch+1} epoch : {step+1 :5d} loss={running_loss/(step+1)}\")\n",
    "\n",
    "criterion = nn.MSELoss()\n",
    "optimizer = torch.optim.Adam(model.parameters(), lr=0.001)\n",
    "\n",
    "train(model, dataloader, criterion, optimizer)"
   ],
   "metadata": {
    "collapsed": false,
    "pycharm": {
     "name": "#%%\n"
    }
   }
  },
  {
   "cell_type": "code",
   "execution_count": 117,
   "outputs": [],
   "source": [],
   "metadata": {
    "collapsed": false,
    "pycharm": {
     "name": "#%%\n"
    }
   }
  }
 ],
 "metadata": {
  "kernelspec": {
   "display_name": "Python 3",
   "language": "python",
   "name": "python3"
  },
  "language_info": {
   "codemirror_mode": {
    "name": "ipython",
    "version": 2
   },
   "file_extension": ".py",
   "mimetype": "text/x-python",
   "name": "python",
   "nbconvert_exporter": "python",
   "pygments_lexer": "ipython2",
   "version": "2.7.6"
  }
 },
 "nbformat": 4,
 "nbformat_minor": 0
}