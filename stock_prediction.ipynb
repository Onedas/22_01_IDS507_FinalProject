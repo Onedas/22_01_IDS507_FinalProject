{
 "cells": [
  {
   "cell_type": "code",
   "metadata": {
    "collapsed": true,
    "pycharm": {
     "name": "#%%\n"
    }
   },
   "source": [
    "import pandas as pd\n",
    "import matplotlib\n",
    "import matplotlib.pyplot as plt\n",
    "from IPython.display import display\n",
    "import seaborn as sns\n",
    "import numpy as np\n",
    "from typing import List, Callable\n",
    "# import tensorflow as tf\n",
    "# from tensorflow.keras import layers\n",
    "\n",
    "\n",
    "# matplotlib.font_manager._rebuild()\n",
    "plt.rc('font', family='Malgun Gothic')\n",
    "plt.rcParams['axes.unicode_minus'] = False #한글 폰트 사용시 마이너스 폰트 깨짐 해결\n",
    "sns.set(font=\"Malgun Gothic\",rc={\"axes.unicode_minus\":False}, style='whitegrid')"
   ],
   "execution_count": 37,
   "outputs": []
  },
  {
   "cell_type": "code",
   "execution_count": 38,
   "outputs": [],
   "source": [
    "data_root = \"./data/daily\""
   ],
   "metadata": {
    "collapsed": false,
    "pycharm": {
     "name": "#%%\n"
    }
   }
  },
  {
   "cell_type": "markdown",
   "source": [
    "## 1. Data 준비\n",
    "\n",
    "### 1) Weather data"
   ],
   "metadata": {
    "collapsed": false
   }
  },
  {
   "cell_type": "code",
   "execution_count": 39,
   "outputs": [
    {
     "data": {
      "text/plain": "           일시  평균기온  강수량mm  평균풍속ms  평균습도rh  일조합\n0  2012-01-01  -3.0    0.0     2.9    64.5  4.4\n1  2012-01-02  -4.8    0.0     2.3    66.5  5.9\n2  2012-01-03  -4.5    0.4     2.5    68.3  2.7",
      "text/html": "<div>\n<style scoped>\n    .dataframe tbody tr th:only-of-type {\n        vertical-align: middle;\n    }\n\n    .dataframe tbody tr th {\n        vertical-align: top;\n    }\n\n    .dataframe thead th {\n        text-align: right;\n    }\n</style>\n<table border=\"1\" class=\"dataframe\">\n  <thead>\n    <tr style=\"text-align: right;\">\n      <th></th>\n      <th>일시</th>\n      <th>평균기온</th>\n      <th>강수량mm</th>\n      <th>평균풍속ms</th>\n      <th>평균습도rh</th>\n      <th>일조합</th>\n    </tr>\n  </thead>\n  <tbody>\n    <tr>\n      <th>0</th>\n      <td>2012-01-01</td>\n      <td>-3.0</td>\n      <td>0.0</td>\n      <td>2.9</td>\n      <td>64.5</td>\n      <td>4.4</td>\n    </tr>\n    <tr>\n      <th>1</th>\n      <td>2012-01-02</td>\n      <td>-4.8</td>\n      <td>0.0</td>\n      <td>2.3</td>\n      <td>66.5</td>\n      <td>5.9</td>\n    </tr>\n    <tr>\n      <th>2</th>\n      <td>2012-01-03</td>\n      <td>-4.5</td>\n      <td>0.4</td>\n      <td>2.5</td>\n      <td>68.3</td>\n      <td>2.7</td>\n    </tr>\n  </tbody>\n</table>\n</div>"
     },
     "metadata": {},
     "output_type": "display_data"
    }
   ],
   "source": [
    "# load each data\n",
    "temp_df = pd.read_csv(f'{data_root}/Temperatures.csv', encoding='cp949')\n",
    "precip_df = pd.read_csv(f'{data_root}/Precipitation.csv', encoding='cp949').fillna(0)\n",
    "wind_df = pd.read_csv(f'{data_root}/Wind.csv', encoding='cp949')\n",
    "humidity_df = pd.read_csv(f'{data_root}/Humidity.csv', encoding='cp949')\n",
    "sunshine_df = pd.read_csv(f'{data_root}/Sunshine.csv', encoding='cp949')\n",
    "\n",
    "# merge\n",
    "weather_df = temp_df.merge(precip_df).merge(wind_df).merge(humidity_df).merge(sunshine_df)\n",
    "weather_columns = [\"평균기온\", \"강수량mm\", \"평균풍속ms\", \"평균습도rh\",\"일조합\"]\n",
    "\n",
    "selected_weather_df = weather_df[['일시']+weather_columns]\n",
    "display(selected_weather_df.head(3))"
   ],
   "metadata": {
    "collapsed": false,
    "pycharm": {
     "name": "#%%\n"
    }
   }
  },
  {
   "cell_type": "markdown",
   "source": [
    "### 2) Stock data"
   ],
   "metadata": {
    "collapsed": false,
    "pycharm": {
     "name": "#%% md\n"
    }
   }
  },
  {
   "cell_type": "code",
   "execution_count": 40,
   "outputs": [
    {
     "data": {
      "text/plain": "         Date   Close\n0  2000-01-04  6110.0\n1  2000-01-05  5580.0\n2  2000-01-06  5620.0",
      "text/html": "<div>\n<style scoped>\n    .dataframe tbody tr th:only-of-type {\n        vertical-align: middle;\n    }\n\n    .dataframe tbody tr th {\n        vertical-align: top;\n    }\n\n    .dataframe thead th {\n        text-align: right;\n    }\n</style>\n<table border=\"1\" class=\"dataframe\">\n  <thead>\n    <tr style=\"text-align: right;\">\n      <th></th>\n      <th>Date</th>\n      <th>Close</th>\n    </tr>\n  </thead>\n  <tbody>\n    <tr>\n      <th>0</th>\n      <td>2000-01-04</td>\n      <td>6110.0</td>\n    </tr>\n    <tr>\n      <th>1</th>\n      <td>2000-01-05</td>\n      <td>5580.0</td>\n    </tr>\n    <tr>\n      <th>2</th>\n      <td>2000-01-06</td>\n      <td>5620.0</td>\n    </tr>\n  </tbody>\n</table>\n</div>"
     },
     "metadata": {},
     "output_type": "display_data"
    }
   ],
   "source": [
    "company_name = \"Samsung Electronics Co\"\n",
    "stock_price_df = pd.read_csv(f'./data/stock/{company_name}.csv')\n",
    "stock_columns = ['Close']\n",
    "selected_stock_df = stock_price_df[['Date'] + stock_columns]\n",
    "display(selected_stock_df.head(3))"
   ],
   "metadata": {
    "collapsed": false,
    "pycharm": {
     "name": "#%%\n"
    }
   }
  },
  {
   "cell_type": "markdown",
   "source": [
    "### 3) Merge"
   ],
   "metadata": {
    "collapsed": false,
    "pycharm": {
     "name": "#%% md\n"
    }
   }
  },
  {
   "cell_type": "code",
   "execution_count": 41,
   "outputs": [
    {
     "data": {
      "text/plain": "            Date  평균기온  강수량mm  평균풍속ms  평균습도rh   일조합    Close\n0     2012-01-02  -4.8    0.0     2.3    66.5   5.9  21600.0\n1     2012-01-03  -4.5    0.4     2.5    68.3   2.7  22100.0\n2     2012-01-04  -7.4    0.0     3.1    55.4   8.1  21600.0\n3     2012-01-05  -5.7    0.0     1.5    49.8   9.0  21100.0\n4     2012-01-06  -2.8    0.0     2.5    42.9   8.4  20800.0\n...          ...   ...    ...     ...     ...   ...      ...\n2553  2022-05-20  20.6    0.0     2.3    52.8  10.8  68000.0\n2554  2022-05-23  23.0    0.0     2.3    63.5  10.4  67900.0\n2555  2022-05-24  22.9    0.0     2.1    56.8  12.3  66500.0\n2556  2022-05-25  21.0    3.5     2.6    66.6   8.1  66400.0\n2557  2022-05-26  18.7    0.0     3.7    59.9  11.6  65900.0\n\n[2558 rows x 7 columns]",
      "text/html": "<div>\n<style scoped>\n    .dataframe tbody tr th:only-of-type {\n        vertical-align: middle;\n    }\n\n    .dataframe tbody tr th {\n        vertical-align: top;\n    }\n\n    .dataframe thead th {\n        text-align: right;\n    }\n</style>\n<table border=\"1\" class=\"dataframe\">\n  <thead>\n    <tr style=\"text-align: right;\">\n      <th></th>\n      <th>Date</th>\n      <th>평균기온</th>\n      <th>강수량mm</th>\n      <th>평균풍속ms</th>\n      <th>평균습도rh</th>\n      <th>일조합</th>\n      <th>Close</th>\n    </tr>\n  </thead>\n  <tbody>\n    <tr>\n      <th>0</th>\n      <td>2012-01-02</td>\n      <td>-4.8</td>\n      <td>0.0</td>\n      <td>2.3</td>\n      <td>66.5</td>\n      <td>5.9</td>\n      <td>21600.0</td>\n    </tr>\n    <tr>\n      <th>1</th>\n      <td>2012-01-03</td>\n      <td>-4.5</td>\n      <td>0.4</td>\n      <td>2.5</td>\n      <td>68.3</td>\n      <td>2.7</td>\n      <td>22100.0</td>\n    </tr>\n    <tr>\n      <th>2</th>\n      <td>2012-01-04</td>\n      <td>-7.4</td>\n      <td>0.0</td>\n      <td>3.1</td>\n      <td>55.4</td>\n      <td>8.1</td>\n      <td>21600.0</td>\n    </tr>\n    <tr>\n      <th>3</th>\n      <td>2012-01-05</td>\n      <td>-5.7</td>\n      <td>0.0</td>\n      <td>1.5</td>\n      <td>49.8</td>\n      <td>9.0</td>\n      <td>21100.0</td>\n    </tr>\n    <tr>\n      <th>4</th>\n      <td>2012-01-06</td>\n      <td>-2.8</td>\n      <td>0.0</td>\n      <td>2.5</td>\n      <td>42.9</td>\n      <td>8.4</td>\n      <td>20800.0</td>\n    </tr>\n    <tr>\n      <th>...</th>\n      <td>...</td>\n      <td>...</td>\n      <td>...</td>\n      <td>...</td>\n      <td>...</td>\n      <td>...</td>\n      <td>...</td>\n    </tr>\n    <tr>\n      <th>2553</th>\n      <td>2022-05-20</td>\n      <td>20.6</td>\n      <td>0.0</td>\n      <td>2.3</td>\n      <td>52.8</td>\n      <td>10.8</td>\n      <td>68000.0</td>\n    </tr>\n    <tr>\n      <th>2554</th>\n      <td>2022-05-23</td>\n      <td>23.0</td>\n      <td>0.0</td>\n      <td>2.3</td>\n      <td>63.5</td>\n      <td>10.4</td>\n      <td>67900.0</td>\n    </tr>\n    <tr>\n      <th>2555</th>\n      <td>2022-05-24</td>\n      <td>22.9</td>\n      <td>0.0</td>\n      <td>2.1</td>\n      <td>56.8</td>\n      <td>12.3</td>\n      <td>66500.0</td>\n    </tr>\n    <tr>\n      <th>2556</th>\n      <td>2022-05-25</td>\n      <td>21.0</td>\n      <td>3.5</td>\n      <td>2.6</td>\n      <td>66.6</td>\n      <td>8.1</td>\n      <td>66400.0</td>\n    </tr>\n    <tr>\n      <th>2557</th>\n      <td>2022-05-26</td>\n      <td>18.7</td>\n      <td>0.0</td>\n      <td>3.7</td>\n      <td>59.9</td>\n      <td>11.6</td>\n      <td>65900.0</td>\n    </tr>\n  </tbody>\n</table>\n<p>2558 rows × 7 columns</p>\n</div>"
     },
     "metadata": {},
     "output_type": "display_data"
    }
   ],
   "source": [
    "stock_weather_df = selected_weather_df.rename(columns={\"일시\":\"Date\"}).merge(selected_stock_df)\n",
    "display(stock_weather_df)"
   ],
   "metadata": {
    "collapsed": false,
    "pycharm": {
     "name": "#%%\n"
    }
   }
  },
  {
   "cell_type": "code",
   "execution_count": 42,
   "outputs": [
    {
     "data": {
      "text/plain": "Date      0\n평균기온      0\n강수량mm     0\n평균풍속ms    2\n평균습도rh    0\n일조합       9\nClose     0\ndtype: int64"
     },
     "metadata": {},
     "output_type": "display_data"
    },
    {
     "data": {
      "text/plain": "            Date  평균기온  강수량mm  평균풍속ms  평균습도rh  일조합    Close\n1460  2017-12-05  -4.2    0.1     NaN    40.1  2.1  51260.0\n1461  2017-12-06   0.2    1.2     NaN    72.6  7.7  50020.0",
      "text/html": "<div>\n<style scoped>\n    .dataframe tbody tr th:only-of-type {\n        vertical-align: middle;\n    }\n\n    .dataframe tbody tr th {\n        vertical-align: top;\n    }\n\n    .dataframe thead th {\n        text-align: right;\n    }\n</style>\n<table border=\"1\" class=\"dataframe\">\n  <thead>\n    <tr style=\"text-align: right;\">\n      <th></th>\n      <th>Date</th>\n      <th>평균기온</th>\n      <th>강수량mm</th>\n      <th>평균풍속ms</th>\n      <th>평균습도rh</th>\n      <th>일조합</th>\n      <th>Close</th>\n    </tr>\n  </thead>\n  <tbody>\n    <tr>\n      <th>1460</th>\n      <td>2017-12-05</td>\n      <td>-4.2</td>\n      <td>0.1</td>\n      <td>NaN</td>\n      <td>40.1</td>\n      <td>2.1</td>\n      <td>51260.0</td>\n    </tr>\n    <tr>\n      <th>1461</th>\n      <td>2017-12-06</td>\n      <td>0.2</td>\n      <td>1.2</td>\n      <td>NaN</td>\n      <td>72.6</td>\n      <td>7.7</td>\n      <td>50020.0</td>\n    </tr>\n  </tbody>\n</table>\n</div>"
     },
     "metadata": {},
     "output_type": "display_data"
    },
    {
     "data": {
      "text/plain": "            Date  평균기온  강수량mm  평균풍속ms  평균습도rh  일조합    Close\n1418  2017-09-28  19.2    0.0     2.8    49.1  NaN  51260.0\n1422  2017-10-12  11.4    0.0     2.0    71.0  NaN  54800.0\n1449  2017-11-20  -0.4    0.0     1.4    55.3  NaN  55200.0\n1454  2017-11-27   2.5    0.0     1.3    53.0  NaN  52640.0\n1457  2017-11-30  -2.4    0.0     3.3    26.8  NaN  50800.0\n1488  2018-01-18   2.1    0.0     1.9    59.6  NaN  49900.0\n1494  2018-01-26 -14.8    0.0     2.6    34.9  NaN  50780.0\n1882  2019-08-28  26.1    0.0     1.9    66.2  NaN  44150.0\n2217  2021-01-07 -14.5    0.0     4.1    49.9  NaN  82900.0",
      "text/html": "<div>\n<style scoped>\n    .dataframe tbody tr th:only-of-type {\n        vertical-align: middle;\n    }\n\n    .dataframe tbody tr th {\n        vertical-align: top;\n    }\n\n    .dataframe thead th {\n        text-align: right;\n    }\n</style>\n<table border=\"1\" class=\"dataframe\">\n  <thead>\n    <tr style=\"text-align: right;\">\n      <th></th>\n      <th>Date</th>\n      <th>평균기온</th>\n      <th>강수량mm</th>\n      <th>평균풍속ms</th>\n      <th>평균습도rh</th>\n      <th>일조합</th>\n      <th>Close</th>\n    </tr>\n  </thead>\n  <tbody>\n    <tr>\n      <th>1418</th>\n      <td>2017-09-28</td>\n      <td>19.2</td>\n      <td>0.0</td>\n      <td>2.8</td>\n      <td>49.1</td>\n      <td>NaN</td>\n      <td>51260.0</td>\n    </tr>\n    <tr>\n      <th>1422</th>\n      <td>2017-10-12</td>\n      <td>11.4</td>\n      <td>0.0</td>\n      <td>2.0</td>\n      <td>71.0</td>\n      <td>NaN</td>\n      <td>54800.0</td>\n    </tr>\n    <tr>\n      <th>1449</th>\n      <td>2017-11-20</td>\n      <td>-0.4</td>\n      <td>0.0</td>\n      <td>1.4</td>\n      <td>55.3</td>\n      <td>NaN</td>\n      <td>55200.0</td>\n    </tr>\n    <tr>\n      <th>1454</th>\n      <td>2017-11-27</td>\n      <td>2.5</td>\n      <td>0.0</td>\n      <td>1.3</td>\n      <td>53.0</td>\n      <td>NaN</td>\n      <td>52640.0</td>\n    </tr>\n    <tr>\n      <th>1457</th>\n      <td>2017-11-30</td>\n      <td>-2.4</td>\n      <td>0.0</td>\n      <td>3.3</td>\n      <td>26.8</td>\n      <td>NaN</td>\n      <td>50800.0</td>\n    </tr>\n    <tr>\n      <th>1488</th>\n      <td>2018-01-18</td>\n      <td>2.1</td>\n      <td>0.0</td>\n      <td>1.9</td>\n      <td>59.6</td>\n      <td>NaN</td>\n      <td>49900.0</td>\n    </tr>\n    <tr>\n      <th>1494</th>\n      <td>2018-01-26</td>\n      <td>-14.8</td>\n      <td>0.0</td>\n      <td>2.6</td>\n      <td>34.9</td>\n      <td>NaN</td>\n      <td>50780.0</td>\n    </tr>\n    <tr>\n      <th>1882</th>\n      <td>2019-08-28</td>\n      <td>26.1</td>\n      <td>0.0</td>\n      <td>1.9</td>\n      <td>66.2</td>\n      <td>NaN</td>\n      <td>44150.0</td>\n    </tr>\n    <tr>\n      <th>2217</th>\n      <td>2021-01-07</td>\n      <td>-14.5</td>\n      <td>0.0</td>\n      <td>4.1</td>\n      <td>49.9</td>\n      <td>NaN</td>\n      <td>82900.0</td>\n    </tr>\n  </tbody>\n</table>\n</div>"
     },
     "metadata": {},
     "output_type": "display_data"
    }
   ],
   "source": [
    "display(stock_weather_df.isnull().sum())\n",
    "display(stock_weather_df[stock_weather_df['평균풍속ms'].isnull()])\n",
    "display(stock_weather_df[stock_weather_df['일조합'].isnull()])\n",
    "stock_weather_df = stock_weather_df.fillna(0)"
   ],
   "metadata": {
    "collapsed": false,
    "pycharm": {
     "name": "#%% na\n"
    }
   }
  },
  {
   "cell_type": "markdown",
   "source": [
    "## 2. Training\n",
    "### 1) RNN"
   ],
   "metadata": {
    "collapsed": false,
    "pycharm": {
     "name": "#%% md\n"
    }
   }
  },
  {
   "cell_type": "code",
   "execution_count": 43,
   "outputs": [
    {
     "name": "stdout",
     "output_type": "stream",
     "text": [
      "cuda\n"
     ]
    }
   ],
   "source": [
    "import torch\n",
    "import torch.nn as nn\n",
    "\n",
    "# cfg\n",
    "batch_size = 32\n",
    "t_dim = 24  # todo: 변수명 변경 필요..\n",
    "input_dim = len(weather_columns) + len(stock_columns)\n",
    "epochs = 1\n",
    "device = torch.device('cuda') if torch.cuda.is_available() else torch.device('cpu')\n",
    "print(device)"
   ],
   "metadata": {
    "collapsed": false,
    "pycharm": {
     "name": "#%%\n"
    }
   }
  },
  {
   "cell_type": "code",
   "execution_count": 44,
   "outputs": [],
   "source": [
    "import torch\n",
    "import torch.nn as nn\n",
    "\n",
    "class StockModel(nn.Module):\n",
    "    def __init__(self, input_dim, t_dim, h_c=32, num_layers=1):\n",
    "        super(StockModel, self).__init__()\n",
    "        self.input_dim = input_dim\n",
    "        self.t_dim = t_dim\n",
    "\n",
    "        self.rnn = nn.GRU(input_size=input_dim, hidden_size=h_c, num_layers=num_layers, batch_first=True)\n",
    "        self.fc = nn.Linear(in_features=h_c, out_features=1)\n",
    "\n",
    "    def forward(self, x):\n",
    "        output, hn = self.rnn(x)\n",
    "        return self.fc(output[:, :, :]) # batch, last_cell, out_dim\n"
   ],
   "metadata": {
    "collapsed": false,
    "pycharm": {
     "name": "#%%\n"
    }
   }
  },
  {
   "cell_type": "markdown",
   "source": [
    "### 2) Dataloader"
   ],
   "metadata": {
    "collapsed": false,
    "pycharm": {
     "name": "#%% md\n"
    }
   }
  },
  {
   "cell_type": "code",
   "execution_count": 45,
   "outputs": [
    {
     "data": {
      "text/plain": "       평균기온     강수량mm    평균풍속ms    평균습도rh       일조합     Close\n0 -1.620981 -0.276420 -0.192611  0.498315 -0.234437 -1.366412\n1 -1.593744 -0.241892  0.036974  0.620731 -1.045259 -1.281495\n2 -1.857033 -0.276420  0.725729 -0.256583  0.323003 -1.366412",
      "text/html": "<div>\n<style scoped>\n    .dataframe tbody tr th:only-of-type {\n        vertical-align: middle;\n    }\n\n    .dataframe tbody tr th {\n        vertical-align: top;\n    }\n\n    .dataframe thead th {\n        text-align: right;\n    }\n</style>\n<table border=\"1\" class=\"dataframe\">\n  <thead>\n    <tr style=\"text-align: right;\">\n      <th></th>\n      <th>평균기온</th>\n      <th>강수량mm</th>\n      <th>평균풍속ms</th>\n      <th>평균습도rh</th>\n      <th>일조합</th>\n      <th>Close</th>\n    </tr>\n  </thead>\n  <tbody>\n    <tr>\n      <th>0</th>\n      <td>-1.620981</td>\n      <td>-0.276420</td>\n      <td>-0.192611</td>\n      <td>0.498315</td>\n      <td>-0.234437</td>\n      <td>-1.366412</td>\n    </tr>\n    <tr>\n      <th>1</th>\n      <td>-1.593744</td>\n      <td>-0.241892</td>\n      <td>0.036974</td>\n      <td>0.620731</td>\n      <td>-1.045259</td>\n      <td>-1.281495</td>\n    </tr>\n    <tr>\n      <th>2</th>\n      <td>-1.857033</td>\n      <td>-0.276420</td>\n      <td>0.725729</td>\n      <td>-0.256583</td>\n      <td>0.323003</td>\n      <td>-1.366412</td>\n    </tr>\n  </tbody>\n</table>\n</div>"
     },
     "metadata": {},
     "output_type": "display_data"
    },
    {
     "data": {
      "text/plain": "          평균기온    강수량mm    평균풍속ms    평균습도rh       일조합     Close\n1720 -1.630060 -0.27642 -0.881366 -1.113494  0.475032  0.802278\n1721 -1.502955 -0.27642 -1.225743 -1.385530  0.475032  0.690485\n1722 -1.285061 -0.27642 -1.455328 -0.249782 -0.741201  0.675651",
      "text/html": "<div>\n<style scoped>\n    .dataframe tbody tr th:only-of-type {\n        vertical-align: middle;\n    }\n\n    .dataframe tbody tr th {\n        vertical-align: top;\n    }\n\n    .dataframe thead th {\n        text-align: right;\n    }\n</style>\n<table border=\"1\" class=\"dataframe\">\n  <thead>\n    <tr style=\"text-align: right;\">\n      <th></th>\n      <th>평균기온</th>\n      <th>강수량mm</th>\n      <th>평균풍속ms</th>\n      <th>평균습도rh</th>\n      <th>일조합</th>\n      <th>Close</th>\n    </tr>\n  </thead>\n  <tbody>\n    <tr>\n      <th>1720</th>\n      <td>-1.630060</td>\n      <td>-0.27642</td>\n      <td>-0.881366</td>\n      <td>-1.113494</td>\n      <td>0.475032</td>\n      <td>0.802278</td>\n    </tr>\n    <tr>\n      <th>1721</th>\n      <td>-1.502955</td>\n      <td>-0.27642</td>\n      <td>-1.225743</td>\n      <td>-1.385530</td>\n      <td>0.475032</td>\n      <td>0.690485</td>\n    </tr>\n    <tr>\n      <th>1722</th>\n      <td>-1.285061</td>\n      <td>-0.27642</td>\n      <td>-1.455328</td>\n      <td>-0.249782</td>\n      <td>-0.741201</td>\n      <td>0.675651</td>\n    </tr>\n  </tbody>\n</table>\n</div>"
     },
     "metadata": {},
     "output_type": "display_data"
    }
   ],
   "source": [
    "from torch.utils.data import DataLoader, Dataset\n",
    "\n",
    "class StockDataset(Dataset):\n",
    "    def __init__(self, df, t_dim, label:List = None,):\n",
    "        super(StockDataset, self).__init__()\n",
    "        self.df = df\n",
    "        self.t_dim = t_dim\n",
    "        if label is None:\n",
    "            label = df.columns\n",
    "        self.label = label\n",
    "        self.total_length = len(df) - (t_dim + 1)\n",
    "\n",
    "    def __len__(self):\n",
    "        return self.total_length\n",
    "\n",
    "    def __getitem__(self, idx):\n",
    "        x = self.df.loc[idx: idx+self.t_dim-1].values\n",
    "        y = self.df.loc[idx+1: idx+self.t_dim][self.label].values\n",
    "        return x, y\n",
    "\n",
    "# preprocess\n",
    "# log\n",
    "stock_weather_df['Close'] = np.log(1+stock_weather_df['Close'])\n",
    "train_df = stock_weather_df[stock_weather_df['Date'] < '2019-01-01'].drop(columns='Date')\n",
    "test_df = stock_weather_df[stock_weather_df['Date'] >= '2019-01-01'].drop(columns='Date')\n",
    "\n",
    "train_mean, train_std = train_df.mean(), train_df.std()\n",
    "\n",
    "train_df = (train_df - train_mean) / train_std\n",
    "test_df = (test_df - train_mean) / train_std\n",
    "\n",
    "display(train_df.head(3), test_df.head(3))"
   ],
   "metadata": {
    "collapsed": false,
    "pycharm": {
     "name": "#%%\n"
    }
   }
  },
  {
   "cell_type": "code",
   "execution_count": 46,
   "outputs": [
    {
     "name": "stdout",
     "output_type": "stream",
     "text": [
      "1 epoch :    53step - loss=0.1332336607969032\n"
     ]
    }
   ],
   "source": [
    "def train(model, train_loader, criterion, optimizer, epochs=10, device=torch.device('cpu')):\n",
    "    model = model.to(device)\n",
    "    for epoch in range(epochs):\n",
    "        running_loss = 0\n",
    "        for step, (x, y) in enumerate(train_loader):\n",
    "            x, y = x.float().to(device), y.float().to(device)\n",
    "            optimizer.zero_grad()\n",
    "\n",
    "            pred = model(x)\n",
    "            loss =criterion(pred, y)\n",
    "\n",
    "            loss.backward()\n",
    "            optimizer.step()\n",
    "\n",
    "            running_loss += loss.item()\n",
    "            if (step+1) % 100 == 0:\n",
    "                print(f\"{epoch+1} epoch : {step+1 :5d}step - loss={running_loss/(step+1)}\")\n",
    "        print(f\"{epoch+1} epoch : {step+1 :5d}step - loss={running_loss/(step+1)}\")\n",
    "\n",
    "    return model\n",
    "\n",
    "model = StockModel(input_dim, t_dim)\n",
    "ds = StockDataset(train_df, t_dim=t_dim, label=['Close'])\n",
    "dataloader = DataLoader(ds, batch_size=batch_size, shuffle=True)\n",
    "criterion = nn.MSELoss()\n",
    "optimizer = torch.optim.RMSprop(model.parameters(), lr=0.001)\n",
    "\n",
    "model = train(model, dataloader, criterion, optimizer, epochs, device=device)"
   ],
   "metadata": {
    "collapsed": false,
    "pycharm": {
     "name": "#%%\n"
    }
   }
  },
  {
   "cell_type": "code",
   "execution_count": 47,
   "outputs": [
    {
     "data": {
      "text/plain": "OrderedDict([('rnn.weight_ih_l0',\n              tensor([[ 0.0403, -0.0559,  0.0478,  0.1070,  0.0973,  0.1667],\n                      [ 0.1327,  0.1791,  0.1289, -0.1639,  0.1684, -0.0186],\n                      [-0.0306,  0.0312,  0.0587,  0.1357,  0.1172, -0.1888],\n                      [-0.0349,  0.0347,  0.1418,  0.1537, -0.1482,  0.2464],\n                      [-0.0886, -0.1315, -0.1282, -0.0825, -0.0174,  0.0998],\n                      [ 0.0170,  0.0545, -0.2015,  0.1503, -0.1320, -0.0265],\n                      [ 0.1793, -0.1413,  0.0904, -0.0509, -0.1059,  0.1615],\n                      [ 0.0293, -0.0856, -0.0953,  0.1284, -0.1187,  0.0754],\n                      [-0.0586,  0.0478,  0.0633, -0.1566, -0.1365,  0.1135],\n                      [ 0.1692, -0.0691,  0.0797,  0.1238,  0.0917, -0.0127],\n                      [ 0.0653,  0.1295, -0.1646,  0.1241, -0.0254, -0.0811],\n                      [ 0.1082, -0.1032, -0.0338, -0.0355,  0.0419,  0.1946],\n                      [ 0.0933,  0.1208,  0.0434, -0.0585, -0.1312,  0.1540],\n                      [ 0.0581, -0.0578,  0.1004, -0.0534, -0.1720, -0.0493],\n                      [-0.1071, -0.1426, -0.0943, -0.0623, -0.0426,  0.0293],\n                      [ 0.0728,  0.1228, -0.0652, -0.0685,  0.1218,  0.0266],\n                      [ 0.0404,  0.1529, -0.1050, -0.0195,  0.1395,  0.1074],\n                      [-0.0333,  0.0043, -0.0056,  0.0060,  0.1449, -0.1186],\n                      [ 0.1243,  0.1605, -0.2211,  0.1058, -0.1032,  0.0553],\n                      [ 0.0468,  0.1195, -0.0953,  0.0084,  0.0172, -0.1538],\n                      [ 0.0101,  0.0710, -0.0778, -0.1353, -0.1124, -0.2169],\n                      [-0.1276,  0.0041, -0.0687, -0.0706,  0.0081,  0.1253],\n                      [-0.0828, -0.0103,  0.1045, -0.0864, -0.1246,  0.1705],\n                      [-0.0312, -0.0496, -0.0716,  0.1487, -0.0730,  0.1079],\n                      [ 0.0145, -0.1613, -0.1402,  0.1238,  0.0510, -0.0301],\n                      [ 0.0116,  0.1963,  0.0893, -0.1087, -0.0602, -0.0565],\n                      [-0.0122, -0.0450,  0.0620, -0.1133,  0.1094, -0.0918],\n                      [ 0.0131,  0.1611, -0.0533,  0.0965, -0.1739,  0.0070],\n                      [ 0.0062,  0.0976, -0.1513, -0.1538, -0.1675, -0.1079],\n                      [-0.0947,  0.0577, -0.1847, -0.0845, -0.1205,  0.0167],\n                      [-0.1579,  0.0317,  0.1112, -0.1108,  0.0813,  0.0796],\n                      [ 0.0898, -0.0538,  0.1025,  0.1316, -0.0576,  0.0781],\n                      [ 0.0121,  0.1908,  0.1907, -0.1363, -0.0925, -0.0564],\n                      [-0.0740, -0.0131, -0.0057,  0.1417, -0.1195, -0.0562],\n                      [-0.1985,  0.0638,  0.1069, -0.0743, -0.0722, -0.1503],\n                      [ 0.0321,  0.1838,  0.0010,  0.1003,  0.1252, -0.1023],\n                      [-0.1365,  0.0765,  0.1545,  0.2065, -0.1562,  0.0025],\n                      [-0.1542, -0.0708,  0.1820,  0.0236,  0.1213, -0.0467],\n                      [ 0.0658,  0.1502,  0.0813, -0.0324, -0.0602, -0.1253],\n                      [-0.0769,  0.0856, -0.0133,  0.1913, -0.1812,  0.0357],\n                      [ 0.1040,  0.0275, -0.0542, -0.0301,  0.1728,  0.0496],\n                      [-0.0816, -0.0914,  0.1782,  0.1468, -0.1186, -0.0427],\n                      [-0.0083, -0.1491,  0.1489,  0.1742,  0.0849, -0.1425],\n                      [-0.1295, -0.0387, -0.0423,  0.0803,  0.1092,  0.1180],\n                      [-0.0057, -0.0666,  0.1524, -0.0264,  0.0308, -0.1181],\n                      [-0.0479, -0.0894,  0.1241, -0.0806,  0.0813,  0.0531],\n                      [-0.0413,  0.0547, -0.1267, -0.0641, -0.0530, -0.1067],\n                      [ 0.0131,  0.1448, -0.0789, -0.0446, -0.0182, -0.1008],\n                      [-0.0477,  0.1563,  0.1090,  0.0184, -0.1410, -0.1962],\n                      [-0.1631, -0.0820, -0.0623,  0.1837, -0.1007, -0.0785],\n                      [-0.0957, -0.0612,  0.1460,  0.0669,  0.0091, -0.0316],\n                      [-0.1170, -0.0440, -0.0294, -0.0410, -0.0740, -0.0147],\n                      [ 0.0469, -0.0023,  0.1526,  0.0192, -0.1882,  0.1293],\n                      [-0.0973,  0.0417, -0.0694,  0.2014, -0.1273, -0.1947],\n                      [ 0.0732, -0.1080,  0.1786, -0.0868, -0.1200, -0.0059],\n                      [-0.1730, -0.1150, -0.0312,  0.0799,  0.0054, -0.2367],\n                      [-0.0181,  0.1534,  0.0920, -0.1226, -0.1082,  0.0514],\n                      [-0.0757,  0.0195,  0.1597,  0.0599,  0.0927, -0.2277],\n                      [-0.1533,  0.0185,  0.0542,  0.1024,  0.1256,  0.0179],\n                      [-0.0635,  0.1488,  0.1427,  0.0302, -0.0752, -0.1766],\n                      [ 0.0375,  0.1470,  0.1175, -0.0820,  0.1547,  0.0333],\n                      [ 0.0097, -0.1594,  0.1522, -0.0796,  0.0876, -0.1536],\n                      [-0.0747, -0.0771, -0.0756, -0.1543,  0.0038,  0.0941],\n                      [ 0.1169,  0.0506, -0.0078,  0.2068, -0.0169, -0.0079],\n                      [-0.0654,  0.0056, -0.1003,  0.1530,  0.0951,  0.1033],\n                      [ 0.1530,  0.0361, -0.1282, -0.1147,  0.0006,  0.1266],\n                      [ 0.0500, -0.0049, -0.0537,  0.0991, -0.0765, -0.1185],\n                      [ 0.0070, -0.1793,  0.1775, -0.1221,  0.0852, -0.0339],\n                      [ 0.0410,  0.0810,  0.0229,  0.0972, -0.0508, -0.1844],\n                      [ 0.1143, -0.0640,  0.1246, -0.0356, -0.0981, -0.1273],\n                      [-0.0445,  0.1159, -0.0232, -0.0087, -0.1734,  0.0606],\n                      [-0.0372,  0.0152, -0.1054,  0.0324, -0.0786, -0.1203],\n                      [ 0.0405, -0.0396, -0.0624, -0.0549, -0.1128,  0.0838],\n                      [-0.1476,  0.0261,  0.0151, -0.0048,  0.0555, -0.1158],\n                      [-0.0085,  0.0659,  0.1415,  0.0993, -0.0666, -0.1090],\n                      [ 0.0618,  0.1297,  0.1103,  0.0984,  0.0726,  0.1190],\n                      [ 0.1084, -0.0752, -0.0498,  0.0561,  0.1645, -0.1672],\n                      [ 0.0693,  0.1590,  0.0073, -0.0933,  0.0528,  0.1364],\n                      [-0.1083,  0.0317,  0.1290,  0.0568,  0.1678,  0.0495],\n                      [ 0.0920, -0.0940,  0.0640,  0.0810, -0.1037,  0.1717],\n                      [-0.1548, -0.0643, -0.1531,  0.0170,  0.0269,  0.1352],\n                      [-0.0989, -0.1016, -0.0864,  0.0455,  0.1251,  0.2056],\n                      [-0.1283,  0.0089,  0.0680,  0.1113, -0.0895, -0.0503],\n                      [ 0.1241,  0.0345,  0.1795,  0.1836,  0.1000,  0.0349],\n                      [ 0.1380, -0.0482,  0.1282,  0.1187,  0.0884,  0.1689],\n                      [-0.0303,  0.0224, -0.1340,  0.0224, -0.0825, -0.1439],\n                      [-0.0391,  0.0303, -0.0809, -0.0514,  0.0439,  0.1103],\n                      [-0.0044, -0.0147, -0.1528,  0.1093,  0.1475,  0.0172],\n                      [-0.0074,  0.0533, -0.0548,  0.1024, -0.0826,  0.0295],\n                      [-0.0327, -0.0867, -0.0228,  0.1469, -0.0187,  0.1595],\n                      [ 0.0816, -0.0055, -0.1073, -0.0348, -0.0227, -0.0218],\n                      [-0.0141,  0.0109, -0.0962,  0.1332,  0.1299, -0.1302],\n                      [ 0.0798, -0.0046, -0.1119, -0.1336,  0.0416, -0.1507],\n                      [-0.1020,  0.0888, -0.0844,  0.1205,  0.0066, -0.1054],\n                      [-0.0095,  0.1514, -0.1192, -0.0798, -0.1318,  0.0423],\n                      [ 0.1443, -0.1053, -0.0252,  0.1283, -0.0290, -0.0910]],\n                     device='cuda:0')),\n             ('rnn.weight_hh_l0',\n              tensor([[ 0.2303,  0.1859, -0.2217,  ...,  0.0942,  0.1180,  0.1169],\n                      [-0.1052, -0.1224, -0.2075,  ..., -0.1030,  0.0744, -0.0118],\n                      [ 0.0423, -0.0926,  0.0144,  ...,  0.0963, -0.0374,  0.0277],\n                      ...,\n                      [-0.0168, -0.0400, -0.0332,  ..., -0.0762, -0.1569,  0.1782],\n                      [ 0.0714,  0.0278,  0.0072,  ..., -0.1652,  0.0715, -0.1050],\n                      [ 0.0361, -0.1067, -0.0192,  ..., -0.0488,  0.0738, -0.0531]],\n                     device='cuda:0')),\n             ('rnn.bias_ih_l0',\n              tensor([ 0.1600, -0.1100,  0.0729, -0.0697, -0.0047, -0.0989, -0.0578,  0.1092,\n                      -0.0692,  0.0858,  0.1638,  0.1612, -0.1153, -0.0178, -0.0283,  0.1252,\n                       0.2156,  0.2371, -0.0665,  0.0536,  0.1888, -0.0240,  0.0579, -0.0329,\n                       0.1688, -0.1010,  0.0470,  0.0916,  0.1380, -0.0221,  0.1682, -0.0385,\n                      -0.1547, -0.2365, -0.0351,  0.0551, -0.2807, -0.1023,  0.0605, -0.2250,\n                      -0.0540, -0.1072, -0.0790, -0.1425, -0.3318, -0.2425, -0.0825, -0.2027,\n                      -0.1665,  0.0194,  0.1659,  0.0950, -0.1187, -0.1484, -0.1537, -0.0756,\n                       0.0120, -0.0527,  0.1625, -0.1716, -0.0826, -0.1295, -0.0292,  0.0181,\n                      -0.0802, -0.1449, -0.1899,  0.0490,  0.1296,  0.0508,  0.1706, -0.0199,\n                       0.0057,  0.1861,  0.0530, -0.1288, -0.0334, -0.0680,  0.0594,  0.0410,\n                       0.0441,  0.0931, -0.0667, -0.0805, -0.0453, -0.0017, -0.0979,  0.1180,\n                      -0.1060, -0.0707, -0.0844, -0.0610,  0.0884, -0.1735, -0.0940, -0.0100],\n                     device='cuda:0')),\n             ('rnn.bias_hh_l0',\n              tensor([ 0.0859, -0.0821, -0.1846, -0.1079,  0.0167,  0.2135,  0.1775, -0.0803,\n                      -0.0124, -0.1419,  0.0232, -0.0812,  0.1985,  0.2150,  0.0558, -0.0757,\n                      -0.0186, -0.0928, -0.0467,  0.0513,  0.1309,  0.2727, -0.0608,  0.0643,\n                      -0.0192, -0.0625, -0.1656, -0.0303,  0.1567,  0.1205,  0.2380, -0.1207,\n                      -0.0100, -0.0299, -0.0489, -0.2014, -0.0614, -0.1446, -0.1428, -0.1367,\n                      -0.2994, -0.0182, -0.1076, -0.0089, -0.0902, -0.1756, -0.0394, -0.1109,\n                      -0.2439, -0.2931,  0.1483,  0.1214, -0.1126, -0.1373, -0.2061,  0.0650,\n                      -0.0157,  0.0322, -0.0531, -0.3071, -0.1268, -0.1407,  0.0349, -0.2285,\n                       0.1750, -0.0807,  0.0736, -0.1115, -0.0838,  0.0148, -0.0769, -0.1159,\n                      -0.0376,  0.1743, -0.1049,  0.0388, -0.0414,  0.0771,  0.1615, -0.0963,\n                       0.1614, -0.0309,  0.1227,  0.0194, -0.1134, -0.0800,  0.0125, -0.0593,\n                       0.1207,  0.1569, -0.1165,  0.1389,  0.1209, -0.0492,  0.1163, -0.0944],\n                     device='cuda:0')),\n             ('fc.weight',\n              tensor([[ 0.0768,  0.1996, -0.0314, -0.1063, -0.2041, -0.2024, -0.0725, -0.0331,\n                        0.0863, -0.0237, -0.0300,  0.0514, -0.0673,  0.2008,  0.0937,  0.2099,\n                        0.1943,  0.2127,  0.0975, -0.1141,  0.1993,  0.0578,  0.2393,  0.1250,\n                        0.0495,  0.2464, -0.0115, -0.1739, -0.2471, -0.2102,  0.1984, -0.0961]],\n                     device='cuda:0')),\n             ('fc.bias', tensor([0.0361], device='cuda:0'))])"
     },
     "execution_count": 47,
     "metadata": {},
     "output_type": "execute_result"
    }
   ],
   "source": [
    "model.state_dict()\n"
   ],
   "metadata": {
    "collapsed": false,
    "pycharm": {
     "name": "#%%\n"
    }
   }
  }
 ],
 "metadata": {
  "kernelspec": {
   "display_name": "Python 3",
   "language": "python",
   "name": "python3"
  },
  "language_info": {
   "codemirror_mode": {
    "name": "ipython",
    "version": 2
   },
   "file_extension": ".py",
   "mimetype": "text/x-python",
   "name": "python",
   "nbconvert_exporter": "python",
   "pygments_lexer": "ipython2",
   "version": "2.7.6"
  }
 },
 "nbformat": 4,
 "nbformat_minor": 0
}